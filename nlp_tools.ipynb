{
  "nbformat": 4,
  "nbformat_minor": 0,
  "metadata": {
    "colab": {
      "provenance": [],
      "authorship_tag": "ABX9TyPprhsUFWfIUfTlP6qStrQF",
      "include_colab_link": true
    },
    "kernelspec": {
      "name": "python3",
      "display_name": "Python 3"
    },
    "language_info": {
      "name": "python"
    }
  },
  "cells": [
    {
      "cell_type": "markdown",
      "metadata": {
        "id": "view-in-github",
        "colab_type": "text"
      },
      "source": [
        "<a href=\"https://colab.research.google.com/github/Elwing-Chou/tibaml0315/blob/main/nlp_tools.ipynb\" target=\"_parent\"><img src=\"https://colab.research.google.com/assets/colab-badge.svg\" alt=\"Open In Colab\"/></a>"
      ]
    },
    {
      "cell_type": "markdown",
      "source": [
        "opencc-python-reimplemented"
      ],
      "metadata": {
        "id": "zhT2B55tKUKw"
      }
    },
    {
      "cell_type": "code",
      "source": [
        "!pip install opencc-python-reimplemented"
      ],
      "metadata": {
        "id": "CrBPFIDKLi4b"
      },
      "execution_count": null,
      "outputs": []
    },
    {
      "cell_type": "code",
      "source": [
        "to_convert = \"\"\"从前，有一只蜘蛛，在寺庙的廊庑下静静地结网。由于她经常听到讲经诵法，所以一千年过去了，她变得有些懂得佛理了。\n",
        "　　有一天，佛从这间寺庙路过，看到了这只有佛缘的蜘蛛，于是问她：“你说，什么是最珍贵的？”蜘蛛想了想说：“是得不到和已失去。”佛笑笑，然后走了。\n",
        "　　就这样，一千年过去了，蜘蛛一直被香火熏陶着，变得更深沉更知佛法。有一天，佛又路过这个寺庙，于是又问她：“现在你修行加深了，你认为什么是最珍贵的呢？”蜘蛛不假思索地说：“还是得不到和已失去。”佛又微笑着走了。\n",
        "　　又是一个漫长的一千年，蜘蛛变得更加悟道，她每天都坐在网上深深地思索。在这个千年结束的某一天，一阵大风吹过，一颗露珠落在了蛛网上，蜘蛛看见那晶莹剔透的露珠，心内禁不住欢悦起来，呵，那露珠是多么美好而又纯净，反射着太阳的光华，蜘蛛入迷地看着这滴露珠，充满了爱的欢欣。可是，就在她欣赏愉悦的时候，又是一阵大风吹来，露珠瞬间就被刮走了，消失得无影无踪。\"\"\""
      ],
      "metadata": {
        "id": "zx7Jv0jlLRBL"
      },
      "execution_count": 1,
      "outputs": []
    },
    {
      "cell_type": "code",
      "execution_count": 6,
      "metadata": {
        "colab": {
          "base_uri": "https://localhost:8080/",
          "height": 139
        },
        "id": "kjJm0jS4KFR2",
        "outputId": "9775e421-82dc-4296-a8cf-9da998343700"
      },
      "outputs": [
        {
          "output_type": "execute_result",
          "data": {
            "text/plain": [
              "'從前，有一隻蜘蛛，在寺廟的廊廡下靜靜地結網。由於她經常聽到講經誦法，所以一千年過去了，她變得有些懂得佛理了。\\n\\u3000\\u3000有一天，佛從這間寺廟路過，看到了這隻有佛緣的蜘蛛，於是問她：“你說，什麼是最珍貴的？”蜘蛛想了想說：“是得不到和已失去。”佛笑笑，然後走了。\\n\\u3000\\u3000就這樣，一千年過去了，蜘蛛一直被香火薰陶著，變得更深沉更知佛法。有一天，佛又路過這個寺廟，於是又問她：“現在你修行加深了，你認為什麼是最珍貴的呢？”蜘蛛不假思索地說：“還是得不到和已失去。”佛又微笑著走了。\\n\\u3000\\u3000又是一個漫長的一千年，蜘蛛變得更加悟道，她每天都坐在網上深深地思索。在這個千年結束的某一天，一陣大風吹過，一顆露珠落在了蛛網上，蜘蛛看見那晶瑩剔透的露珠，心內禁不住歡悅起來，呵，那露珠是多麼美好而又純淨，反射著太陽的光華，蜘蛛入迷地看著這滴露珠，充滿了愛的歡欣。可是，就在她欣賞愉悅的時候，又是一陣大風吹來，露珠瞬間就被颳走了，消失得無影無蹤。'"
            ],
            "application/vnd.google.colaboratory.intrinsic+json": {
              "type": "string"
            }
          },
          "metadata": {},
          "execution_count": 6
        }
      ],
      "source": [
        "from opencc import OpenCC\n",
        "\n",
        "cc = OpenCC(\"s2twp\")\n",
        "converted = cc.convert(to_convert)\n",
        "converted"
      ]
    }
  ]
}