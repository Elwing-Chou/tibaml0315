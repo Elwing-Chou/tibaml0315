{
  "nbformat": 4,
  "nbformat_minor": 0,
  "metadata": {
    "colab": {
      "provenance": [],
      "authorship_tag": "ABX9TyPtiarhQhEqbTTxQKXbB1Ng",
      "include_colab_link": true
    },
    "kernelspec": {
      "name": "python3",
      "display_name": "Python 3"
    },
    "language_info": {
      "name": "python"
    }
  },
  "cells": [
    {
      "cell_type": "markdown",
      "metadata": {
        "id": "view-in-github",
        "colab_type": "text"
      },
      "source": [
        "<a href=\"https://colab.research.google.com/github/Elwing-Chou/tibaml0315/blob/main/nlp_tools.ipynb\" target=\"_parent\"><img src=\"https://colab.research.google.com/assets/colab-badge.svg\" alt=\"Open In Colab\"/></a>"
      ]
    },
    {
      "cell_type": "markdown",
      "source": [
        "opencc-python-reimplemented"
      ],
      "metadata": {
        "id": "zhT2B55tKUKw"
      }
    },
    {
      "cell_type": "code",
      "source": [
        "!pip install opencc-python-reimplemented"
      ],
      "metadata": {
        "colab": {
          "base_uri": "https://localhost:8080/"
        },
        "id": "CrBPFIDKLi4b",
        "outputId": "783668a1-1e71-4307-c879-016d88f519ba"
      },
      "execution_count": 15,
      "outputs": [
        {
          "output_type": "stream",
          "name": "stdout",
          "text": [
            "Looking in indexes: https://pypi.org/simple, https://us-python.pkg.dev/colab-wheels/public/simple/\n",
            "Requirement already satisfied: opencc-python-reimplemented in /usr/local/lib/python3.9/dist-packages (0.1.7)\n"
          ]
        }
      ]
    },
    {
      "cell_type": "code",
      "source": [
        "to_convert = \"\"\"从前，有一只蜘蛛，在寺庙的廊庑下静静地结网。由于她经常听到讲经诵法，所以一千年过去了，她变得有些懂得佛理了。\n",
        "　　有一天，佛从这间寺庙路过，看到了这只有佛缘的蜘蛛，于是问她：“你说，什么是最珍贵的？”蜘蛛想了想说：“是得不到和已失去。”佛笑笑，然后走了。\n",
        "　　就这样，一千年过去了，蜘蛛一直被香火熏陶着，变得更深沉更知佛法。有一天，佛又路过这个寺庙，于是又问她：“现在你修行加深了，你认为什么是最珍贵的呢？”蜘蛛不假思索地说：“还是得不到和已失去。”佛又微笑着走了。\n",
        "　　又是一个漫长的一千年，蜘蛛变得更加悟道，她每天都坐在网上深深地思索。在这个千年结束的某一天，一阵大风吹过，一颗露珠落在了蛛网上，蜘蛛看见那晶莹剔透的露珠，心内禁不住欢悦起来，呵，那露珠是多么美好而又纯净，反射着太阳的光华，蜘蛛入迷地看着这滴露珠，充满了爱的欢欣。可是，就在她欣赏愉悦的时候，又是一阵大风吹来，露珠瞬间就被刮走了，消失得无影无踪。\"\"\""
      ],
      "metadata": {
        "id": "zx7Jv0jlLRBL"
      },
      "execution_count": 16,
      "outputs": []
    },
    {
      "cell_type": "code",
      "execution_count": 17,
      "metadata": {
        "colab": {
          "base_uri": "https://localhost:8080/",
          "height": 157
        },
        "id": "kjJm0jS4KFR2",
        "outputId": "dcb84cb3-5d71-4ff9-8ab4-a8c475ebf1ca"
      },
      "outputs": [
        {
          "output_type": "execute_result",
          "data": {
            "text/plain": [
              "'從前，有一隻蜘蛛，在寺廟的廊廡下靜靜地結網。由於她經常聽到講經誦法，所以一千年過去了，她變得有些懂得佛理了。\\n\\u3000\\u3000有一天，佛從這間寺廟路過，看到了這隻有佛緣的蜘蛛，於是問她：“你說，什麼是最珍貴的？”蜘蛛想了想說：“是得不到和已失去。”佛笑笑，然後走了。\\n\\u3000\\u3000就這樣，一千年過去了，蜘蛛一直被香火薰陶著，變得更深沉更知佛法。有一天，佛又路過這個寺廟，於是又問她：“現在你修行加深了，你認為什麼是最珍貴的呢？”蜘蛛不假思索地說：“還是得不到和已失去。”佛又微笑著走了。\\n\\u3000\\u3000又是一個漫長的一千年，蜘蛛變得更加悟道，她每天都坐在網上深深地思索。在這個千年結束的某一天，一陣大風吹過，一顆露珠落在了蛛網上，蜘蛛看見那晶瑩剔透的露珠，心內禁不住歡悅起來，呵，那露珠是多麼美好而又純淨，反射著太陽的光華，蜘蛛入迷地看著這滴露珠，充滿了愛的歡欣。可是，就在她欣賞愉悅的時候，又是一陣大風吹來，露珠瞬間就被颳走了，消失得無影無蹤。'"
            ],
            "application/vnd.google.colaboratory.intrinsic+json": {
              "type": "string"
            }
          },
          "metadata": {},
          "execution_count": 17
        }
      ],
      "source": [
        "from opencc import OpenCC\n",
        "\n",
        "cc = OpenCC(\"s2twp\")\n",
        "converted = cc.convert(to_convert)\n",
        "converted"
      ]
    },
    {
      "cell_type": "code",
      "source": [
        "import jieba\n",
        "from urllib.request import urlretrieve\n",
        "url = \"https://github.com/fxsjy/jieba/raw/master/extra_dict/dict.txt.big\"\n",
        "urlretrieve(url, \"dict.txt.big\")\n",
        "# 1. 載入大辭典\n",
        "jieba.set_dictionary(\"dict.txt.big\")\n",
        "# 2. 載入自訂義詞典\n",
        "jieba.load_userdict(\"mydict.txt\")\n",
        "\n",
        "with open(\"test.txt\", \"r\", encoding=\"utf-8\") as f:\n",
        "    content = f.read()\n",
        "\n",
        "# 全行空白替換成半行空白\n",
        "content = content.replace(\"\\u3000\", \" \")\n",
        "# 3. 分完詞把它搞得跟英文一樣(詞與詞中間有空白)\n",
        "content = \" \".join(jieba.cut(content))\n",
        "content"
      ],
      "metadata": {
        "colab": {
          "base_uri": "https://localhost:8080/",
          "height": 400
        },
        "id": "a-xuwXt1MzGx",
        "outputId": "3a24d5bc-1848-47c9-99d6-6da483285b85"
      },
      "execution_count": 19,
      "outputs": [
        {
          "output_type": "stream",
          "name": "stderr",
          "text": [
            "Building prefix dict from /content/dict.txt.big ...\n",
            "DEBUG:jieba:Building prefix dict from /content/dict.txt.big ...\n",
            "Dumping model to file cache /tmp/jieba.u501edca284da514cb68b53a20324f4e3.cache\n",
            "DEBUG:jieba:Dumping model to file cache /tmp/jieba.u501edca284da514cb68b53a20324f4e3.cache\n",
            "Loading model cost 2.706 seconds.\n",
            "DEBUG:jieba:Loading model cost 2.706 seconds.\n",
            "Prefix dict has been built successfully.\n",
            "DEBUG:jieba:Prefix dict has been built successfully.\n"
          ]
        },
        {
          "output_type": "execute_result",
          "data": {
            "text/plain": [
              "'3   月初 在 台 上映 ， 新海誠 的 最新 作品 《 鈴芽之旅 》 ， 官方 宣布 票房 突破   1.5   億 ， 並且 連續 三周 獲得 台灣 票房 冠軍 ， 這也 是 導演 新海誠 的 電影 首度 在 台灣 拿下 三周 票房 冠軍 的 紀錄 ， 目前 電影 預計 本周 將 超越 《 天氣 之子 》 登上 台灣 影史 日本 電影票房 第   6   名 。 \\n   \\n image \\n   \\n     《 鈴芽之旅 》 國語 配音 版 也 於 上週末 （ 17 日 ） 登上 大 銀幕 ， 這也 是 新海誠 導演 的 作品 在 台 首次 上映 國語 配音 版本 ， 令 許多 台灣 觀眾 驚喜不已 。 而 國語版 配音 包含 女主角 岩戶 鈴芽 由 《 龍 與 雀斑 公主 － 內藤 鈴 》 鄭可欣 配音 ； 宗像 草太則 是 《 七龍珠 超布 羅利 － 布 羅利 》 莊汶 錡 聲演 ； 可愛 的 貓咪 大臣 則是   6   歲 的 蘇蘊佳 擔任 配音 ； 曾 擔任 過 江戶 川柯南 、 野原 新之助 聲優 的 曾 允凡則 是 聲演 鈴芽 阿姨 的 岩戶環 一角 ， 配角 群 更 有許 雲 雲 、 張 乃文 、 蘇振威 、 江志倫 、 陳 進益 、 石班瑜 等 多位 資深 實力派 配音員 參與 。 \\n   \\n     電影 配樂 部分 ， 今年 日本 電影 學院獎 也 由 《 鈴芽之旅 》 RADWIMPS 、 陣內 一真 拿下 最佳 音樂獎 的 殊榮 ， 而 這也 是   RADWIMPS   繼 《 你 的 名字 。 》 、 《 天氣 之子 》 後 奪下 的 第三座 最佳 音樂獎 。 \\n   \\n 1 / 5 \\n   \\n     《 鈴芽之旅 》 劇情 描述 生活 在 九州 鄉間 的   17   歲 少女 鈴芽 （ 原菜 乃華   配音 ） ， 某日 遇到 一名 「 為 了 尋找 門 」 而 四處 旅行 的 神祕 青年 草太 （ 松村 北斗   配音 ） 。 好奇 的 鈴芽 尾隨 草太 進入 山中 的 廢墟 後 ， 在 那裡 發現 了 一扇 宛如 遭逢 崩塌 毀壞 後 ， 所 留下 的 陳舊 之門 。 受到 某種 神祕 力量 的 吸引 ， 鈴芽 將手 伸向 了 那 扇門 … … 。 不久 之後 ， 日本 各地 開始 出現 類似 的 「 門 」 ， 如果 未能 及時 將門 關上 ， 存 在於 門 另一端 的 災厄 將 降臨 於 現世 。 繁星 、 夕陽 、 和 拂曉 時分 ─ ─ ─ 鈴芽 踏入 的 迷途 之境 ， 有著 彷彿 將 所有 時間 融合 在 一起 的 天空 … … 。 於是 ， 在 神祕 之門 的 引導 下 ， 鈴芽 踏上 了 一段 奇妙 的 “ 關門 之旅 ” … … 。'"
            ],
            "application/vnd.google.colaboratory.intrinsic+json": {
              "type": "string"
            }
          },
          "metadata": {},
          "execution_count": 19
        }
      ]
    },
    {
      "cell_type": "code",
      "source": [
        "import jieba.analyse\n",
        "jieba.analyse.extract_tags(content, topK=None, withWeight=True)\n",
        "jieba.analyse.extract_tags(content, topK=10, allowPOS=[\"nr\", \"ns\", \"nw\"])"
      ],
      "metadata": {
        "colab": {
          "base_uri": "https://localhost:8080/"
        },
        "id": "CI7wxze8y8q8",
        "outputId": "76f44ad7-08a5-419b-e0d5-79c870d8ccbd"
      },
      "execution_count": 21,
      "outputs": [
        {
          "output_type": "execute_result",
          "data": {
            "text/plain": [
              "['鈴芽', '鈴芽之旅', '台灣', '新海誠', '羅利', '之門', '日本', '鄭可欣', '莊汶', '蘇蘊佳']"
            ]
          },
          "metadata": {},
          "execution_count": 21
        }
      ]
    }
  ]
}