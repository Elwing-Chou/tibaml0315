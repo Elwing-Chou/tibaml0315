{
  "nbformat": 4,
  "nbformat_minor": 0,
  "metadata": {
    "colab": {
      "provenance": [],
      "authorship_tag": "ABX9TyNaOU5tgwAn0OnGwIIFibf/",
      "include_colab_link": true
    },
    "kernelspec": {
      "name": "python3",
      "display_name": "Python 3"
    },
    "language_info": {
      "name": "python"
    }
  },
  "cells": [
    {
      "cell_type": "markdown",
      "metadata": {
        "id": "view-in-github",
        "colab_type": "text"
      },
      "source": [
        "<a href=\"https://colab.research.google.com/github/Elwing-Chou/tibaml0315/blob/main/naive_bayes.ipynb\" target=\"_parent\"><img src=\"https://colab.research.google.com/assets/colab-badge.svg\" alt=\"Open In Colab\"/></a>"
      ]
    },
    {
      "cell_type": "code",
      "execution_count": 1,
      "metadata": {
        "colab": {
          "base_uri": "https://localhost:8080/"
        },
        "id": "O7tNlMiZ0OOn",
        "outputId": "478fc7a7-5491-43d1-bae1-5155e0840e4a"
      },
      "outputs": [
        {
          "output_type": "execute_result",
          "data": {
            "text/plain": [
              "('test.csv', <http.client.HTTPMessage at 0x7f8db6f4b6a0>)"
            ]
          },
          "metadata": {},
          "execution_count": 1
        }
      ],
      "source": [
        "from urllib.request import urlretrieve\n",
        "url = \"https://github.com/Elwing-Chou/tibaml0315/raw/main/poem_train.txt\"\n",
        "urlretrieve(url, \"train.csv\")\n",
        "url = \"https://github.com/Elwing-Chou/tibaml0315/raw/main/poem_test.txt\"\n",
        "urlretrieve(url, \"test.csv\")"
      ]
    },
    {
      "cell_type": "code",
      "source": [
        "import pandas as pd\n",
        "train = pd.read_csv(\"train.csv\", encoding=\"utf-8\")\n",
        "test = pd.read_csv(\"test.csv\", encoding=\"utf-8\")"
      ],
      "metadata": {
        "id": "VOwLZ3GQ1DSy"
      },
      "execution_count": 2,
      "outputs": []
    },
    {
      "cell_type": "code",
      "source": [
        "test"
      ],
      "metadata": {
        "colab": {
          "base_uri": "https://localhost:8080/",
          "height": 1000
        },
        "id": "DLqaimk61Muf",
        "outputId": "542d8835-1d0d-4064-a671-926529bf6772"
      },
      "execution_count": 3,
      "outputs": [
        {
          "output_type": "execute_result",
          "data": {
            "text/plain": [
              "     作者                    詩名  \\\n",
              "0    李白                 望廬山瀑布   \n",
              "1    李白                 早發白帝城   \n",
              "2    李白                   贈汪倫   \n",
              "3    李白               送孟浩然之廣陵   \n",
              "4    李白                  夜宿山寺   \n",
              "5    李白                   靜夜思   \n",
              "6    李白                  望天門山   \n",
              "7    李白                 獨坐敬亭山   \n",
              "8    李白                登金陵鳳凰台   \n",
              "9    李白                 渡荊門送彆   \n",
              "10   杜甫                  彆讚上人   \n",
              "11   杜甫                   龍門鎮   \n",
              "12   杜甫                   木皮嶺   \n",
              "13   杜甫                    落日   \n",
              "14   杜甫          入奏行贈西山檢察使竇侍禦   \n",
              "15   杜甫                    麗春   \n",
              "16   杜甫               題玄武禪師屋壁   \n",
              "17   杜甫                 謁文公上方   \n",
              "18   杜甫                    杜鵑   \n",
              "19   杜甫                   縛雞行   \n",
              "20  白居易                    聽歌   \n",
              "21  白居易                  追歡偶作   \n",
              "22  白居易             酬夢得貧居詠懷見贈   \n",
              "23  白居易              閒坐看書貽諸少年   \n",
              "24  白居易  二年三月五日齋畢開素當食偶吟贈妻弘農郡君   \n",
              "25  白居易                履道西門二首   \n",
              "26  白居易                 昨日複今辰   \n",
              "27  白居易                 不與老為期   \n",
              "28  白居易                    閒眠   \n",
              "29  白居易   和李相公留守題漕上新橋六韻　同用黎字。   \n",
              "\n",
              "                                                   內容  \n",
              "0                    日照香爐生紫煙，遙看瀑布掛前川。飛流直下三千尺，疑是銀河落九天。  \n",
              "1                    朝辭白帝彩雲間，千裡江陵一日還。兩岸猿聲啼不住，輕舟已過萬重山。  \n",
              "2                    李白乘舟將欲行，忽聞岸上踏歌聲。桃花潭水深千尺，不及汪倫送我情。  \n",
              "3                    故人西辭黃鶴樓，煙花三月下揚州。孤帆遠影碧空儘，唯見長江天際流。  \n",
              "4                            危樓高百尺，手可摘星辰。不敢高聲語，恐驚天上人。  \n",
              "5                            床前明月光，疑是地上霜。舉頭望明月，低頭思故鄉。  \n",
              "6                    天門中斷楚江開，碧水東流至此回。兩岸青山相對出，孤帆一片日邊來。  \n",
              "7                            眾鳥高飛儘，孤雲獨去閒。相看兩不厭，隻有敬亭山。  \n",
              "8   鳳凰台上鳳凰遊，鳳去台空江自流。吳宮花草埋幽徑，晉代衣冠成古丘。三山半落青天外，二水中分白鷺...  \n",
              "9    渡遠荊門外，來從楚國遊。山隨平野儘，江入大荒流。月下飛天境，雲生結海樓。仍憐故鄉水，萬裡送行舟。  \n",
              "10  百川日東流，客去亦不息。我生苦漂蕩，何時有終極。讚公釋門老，放逐來上國。還為世塵嬰，頗帶憔悴...  \n",
              "11  細泉兼輕冰，沮洳棧道濕。不辭辛苦行，迫此短景急。石門雪雲隘，古鎮峰巒集。旌竿暮慘澹，風水白刃...  \n",
              "12  首路栗亭西，尚想鳳凰村。季冬攜童稚，辛苦赴蜀門。南登木皮嶺，艱險不易論。汗流被我體，祁寒為之...  \n",
              "13   落日在簾鉤，溪邊春事幽。芳菲緣岸圃，樵爨倚灘舟。啅雀爭枝墜，飛蟲滿院遊。濁醪誰造汝，一酌散千憂。  \n",
              "14  竇侍禦，驥之子，鳳之雛。年未三十忠義俱，骨鯁絕代無。炯如一段清冰出萬壑，置在迎風寒露之玉壺。...  \n",
              "15   百草競春華，麗春應最勝。少須好顏色，多漫枝條剩。紛紛桃李枝，處處總能移。如何貴此重，卻怕有人知。  \n",
              "16   何年顧虎頭，滿壁畫瀛州。赤日石林氣，青天江海流。錫飛常近鶴，杯度不驚鷗。似得廬山路，真隨惠遠遊。  \n",
              "17  野寺隱喬木，山僧高下居。石門日色異，絳氣橫扶疏。窈窕入風磴，長蘆紛卷舒。庭前猛虎臥，遂得文公...  \n",
              "18  西川有杜鵑，東川無杜鵑。涪萬無杜鵑，雲安有杜鵑。我昔遊錦城，結廬錦水邊。有竹一頃餘，喬木上參...  \n",
              "19  小奴縛雞向市賣，雞被縛急相喧爭。家中厭雞食蟲蟻，不知雞賣還遭烹。蟲雞於人何厚薄，我斥奴人解其...  \n",
              "20                   管妙弦清歌入雲，老人合眼醉醺醺。誠知不及當年聽，猶覺聞時勝不聞。  \n",
              "21  追歡逐樂少閒時，補帖平生得事遲。何處花開曾後看？誰家酒熟不先知？石樓月下吹蘆管，金穀風前舞柳...  \n",
              "22  歲陰生計兩蹉跎，相顧悠悠醉且歌。廚冷難留烏止屋，門閒可與雀張羅。[詩雲：贍烏爰止，於誰之屋？...  \n",
              "23  雨砌長寒蕪，風庭落秋果。窗間有閒叟，儘日看書坐。書中見往事，曆曆知福禍。多取終厚亡，疾驅必先...  \n",
              "24  睡足肢體暢，晨起開中堂。初旭泛簾幕，微風拂衣裳。二婢扶盥櫛，雙童舁簟床。庭東有茂樹，其下多陰...  \n",
              "25  履道西門有弊居，池塘竹樹繞君廬。豪華肥壯雖無分，飽暖安閒即有餘。行灶朝香炊早飯，小園春暖掇新...  \n",
              "26  昨日複今辰，悠悠七十春。所經多故處，卻想似前身。散秩優遊老，閒居淨潔貧。螺杯中有物，鶴氅上無...  \n",
              "27  不與老為期，因何兩鬢絲？才應免夭促，便已及衰羸。昨夜夢何在，明朝身不知。百憂非我所，三樂是吾...  \n",
              "28                   暖床斜臥日曛腰，一覺閒眠百病銷。儘日一飧茶兩碗，更無所要到明朝。  \n",
              "29  選石鋪新路，安橋壓古堤。似從銀漢下，落傍玉川西。影定欄杆倒，標高華表齊。煙開虹半見，月冷鶴雙...  "
            ],
            "text/html": [
              "\n",
              "  <div id=\"df-abb0cbc2-2e51-4217-b9da-010d7501bdcf\">\n",
              "    <div class=\"colab-df-container\">\n",
              "      <div>\n",
              "<style scoped>\n",
              "    .dataframe tbody tr th:only-of-type {\n",
              "        vertical-align: middle;\n",
              "    }\n",
              "\n",
              "    .dataframe tbody tr th {\n",
              "        vertical-align: top;\n",
              "    }\n",
              "\n",
              "    .dataframe thead th {\n",
              "        text-align: right;\n",
              "    }\n",
              "</style>\n",
              "<table border=\"1\" class=\"dataframe\">\n",
              "  <thead>\n",
              "    <tr style=\"text-align: right;\">\n",
              "      <th></th>\n",
              "      <th>作者</th>\n",
              "      <th>詩名</th>\n",
              "      <th>內容</th>\n",
              "    </tr>\n",
              "  </thead>\n",
              "  <tbody>\n",
              "    <tr>\n",
              "      <th>0</th>\n",
              "      <td>李白</td>\n",
              "      <td>望廬山瀑布</td>\n",
              "      <td>日照香爐生紫煙，遙看瀑布掛前川。飛流直下三千尺，疑是銀河落九天。</td>\n",
              "    </tr>\n",
              "    <tr>\n",
              "      <th>1</th>\n",
              "      <td>李白</td>\n",
              "      <td>早發白帝城</td>\n",
              "      <td>朝辭白帝彩雲間，千裡江陵一日還。兩岸猿聲啼不住，輕舟已過萬重山。</td>\n",
              "    </tr>\n",
              "    <tr>\n",
              "      <th>2</th>\n",
              "      <td>李白</td>\n",
              "      <td>贈汪倫</td>\n",
              "      <td>李白乘舟將欲行，忽聞岸上踏歌聲。桃花潭水深千尺，不及汪倫送我情。</td>\n",
              "    </tr>\n",
              "    <tr>\n",
              "      <th>3</th>\n",
              "      <td>李白</td>\n",
              "      <td>送孟浩然之廣陵</td>\n",
              "      <td>故人西辭黃鶴樓，煙花三月下揚州。孤帆遠影碧空儘，唯見長江天際流。</td>\n",
              "    </tr>\n",
              "    <tr>\n",
              "      <th>4</th>\n",
              "      <td>李白</td>\n",
              "      <td>夜宿山寺</td>\n",
              "      <td>危樓高百尺，手可摘星辰。不敢高聲語，恐驚天上人。</td>\n",
              "    </tr>\n",
              "    <tr>\n",
              "      <th>5</th>\n",
              "      <td>李白</td>\n",
              "      <td>靜夜思</td>\n",
              "      <td>床前明月光，疑是地上霜。舉頭望明月，低頭思故鄉。</td>\n",
              "    </tr>\n",
              "    <tr>\n",
              "      <th>6</th>\n",
              "      <td>李白</td>\n",
              "      <td>望天門山</td>\n",
              "      <td>天門中斷楚江開，碧水東流至此回。兩岸青山相對出，孤帆一片日邊來。</td>\n",
              "    </tr>\n",
              "    <tr>\n",
              "      <th>7</th>\n",
              "      <td>李白</td>\n",
              "      <td>獨坐敬亭山</td>\n",
              "      <td>眾鳥高飛儘，孤雲獨去閒。相看兩不厭，隻有敬亭山。</td>\n",
              "    </tr>\n",
              "    <tr>\n",
              "      <th>8</th>\n",
              "      <td>李白</td>\n",
              "      <td>登金陵鳳凰台</td>\n",
              "      <td>鳳凰台上鳳凰遊，鳳去台空江自流。吳宮花草埋幽徑，晉代衣冠成古丘。三山半落青天外，二水中分白鷺...</td>\n",
              "    </tr>\n",
              "    <tr>\n",
              "      <th>9</th>\n",
              "      <td>李白</td>\n",
              "      <td>渡荊門送彆</td>\n",
              "      <td>渡遠荊門外，來從楚國遊。山隨平野儘，江入大荒流。月下飛天境，雲生結海樓。仍憐故鄉水，萬裡送行舟。</td>\n",
              "    </tr>\n",
              "    <tr>\n",
              "      <th>10</th>\n",
              "      <td>杜甫</td>\n",
              "      <td>彆讚上人</td>\n",
              "      <td>百川日東流，客去亦不息。我生苦漂蕩，何時有終極。讚公釋門老，放逐來上國。還為世塵嬰，頗帶憔悴...</td>\n",
              "    </tr>\n",
              "    <tr>\n",
              "      <th>11</th>\n",
              "      <td>杜甫</td>\n",
              "      <td>龍門鎮</td>\n",
              "      <td>細泉兼輕冰，沮洳棧道濕。不辭辛苦行，迫此短景急。石門雪雲隘，古鎮峰巒集。旌竿暮慘澹，風水白刃...</td>\n",
              "    </tr>\n",
              "    <tr>\n",
              "      <th>12</th>\n",
              "      <td>杜甫</td>\n",
              "      <td>木皮嶺</td>\n",
              "      <td>首路栗亭西，尚想鳳凰村。季冬攜童稚，辛苦赴蜀門。南登木皮嶺，艱險不易論。汗流被我體，祁寒為之...</td>\n",
              "    </tr>\n",
              "    <tr>\n",
              "      <th>13</th>\n",
              "      <td>杜甫</td>\n",
              "      <td>落日</td>\n",
              "      <td>落日在簾鉤，溪邊春事幽。芳菲緣岸圃，樵爨倚灘舟。啅雀爭枝墜，飛蟲滿院遊。濁醪誰造汝，一酌散千憂。</td>\n",
              "    </tr>\n",
              "    <tr>\n",
              "      <th>14</th>\n",
              "      <td>杜甫</td>\n",
              "      <td>入奏行贈西山檢察使竇侍禦</td>\n",
              "      <td>竇侍禦，驥之子，鳳之雛。年未三十忠義俱，骨鯁絕代無。炯如一段清冰出萬壑，置在迎風寒露之玉壺。...</td>\n",
              "    </tr>\n",
              "    <tr>\n",
              "      <th>15</th>\n",
              "      <td>杜甫</td>\n",
              "      <td>麗春</td>\n",
              "      <td>百草競春華，麗春應最勝。少須好顏色，多漫枝條剩。紛紛桃李枝，處處總能移。如何貴此重，卻怕有人知。</td>\n",
              "    </tr>\n",
              "    <tr>\n",
              "      <th>16</th>\n",
              "      <td>杜甫</td>\n",
              "      <td>題玄武禪師屋壁</td>\n",
              "      <td>何年顧虎頭，滿壁畫瀛州。赤日石林氣，青天江海流。錫飛常近鶴，杯度不驚鷗。似得廬山路，真隨惠遠遊。</td>\n",
              "    </tr>\n",
              "    <tr>\n",
              "      <th>17</th>\n",
              "      <td>杜甫</td>\n",
              "      <td>謁文公上方</td>\n",
              "      <td>野寺隱喬木，山僧高下居。石門日色異，絳氣橫扶疏。窈窕入風磴，長蘆紛卷舒。庭前猛虎臥，遂得文公...</td>\n",
              "    </tr>\n",
              "    <tr>\n",
              "      <th>18</th>\n",
              "      <td>杜甫</td>\n",
              "      <td>杜鵑</td>\n",
              "      <td>西川有杜鵑，東川無杜鵑。涪萬無杜鵑，雲安有杜鵑。我昔遊錦城，結廬錦水邊。有竹一頃餘，喬木上參...</td>\n",
              "    </tr>\n",
              "    <tr>\n",
              "      <th>19</th>\n",
              "      <td>杜甫</td>\n",
              "      <td>縛雞行</td>\n",
              "      <td>小奴縛雞向市賣，雞被縛急相喧爭。家中厭雞食蟲蟻，不知雞賣還遭烹。蟲雞於人何厚薄，我斥奴人解其...</td>\n",
              "    </tr>\n",
              "    <tr>\n",
              "      <th>20</th>\n",
              "      <td>白居易</td>\n",
              "      <td>聽歌</td>\n",
              "      <td>管妙弦清歌入雲，老人合眼醉醺醺。誠知不及當年聽，猶覺聞時勝不聞。</td>\n",
              "    </tr>\n",
              "    <tr>\n",
              "      <th>21</th>\n",
              "      <td>白居易</td>\n",
              "      <td>追歡偶作</td>\n",
              "      <td>追歡逐樂少閒時，補帖平生得事遲。何處花開曾後看？誰家酒熟不先知？石樓月下吹蘆管，金穀風前舞柳...</td>\n",
              "    </tr>\n",
              "    <tr>\n",
              "      <th>22</th>\n",
              "      <td>白居易</td>\n",
              "      <td>酬夢得貧居詠懷見贈</td>\n",
              "      <td>歲陰生計兩蹉跎，相顧悠悠醉且歌。廚冷難留烏止屋，門閒可與雀張羅。[詩雲：贍烏爰止，於誰之屋？...</td>\n",
              "    </tr>\n",
              "    <tr>\n",
              "      <th>23</th>\n",
              "      <td>白居易</td>\n",
              "      <td>閒坐看書貽諸少年</td>\n",
              "      <td>雨砌長寒蕪，風庭落秋果。窗間有閒叟，儘日看書坐。書中見往事，曆曆知福禍。多取終厚亡，疾驅必先...</td>\n",
              "    </tr>\n",
              "    <tr>\n",
              "      <th>24</th>\n",
              "      <td>白居易</td>\n",
              "      <td>二年三月五日齋畢開素當食偶吟贈妻弘農郡君</td>\n",
              "      <td>睡足肢體暢，晨起開中堂。初旭泛簾幕，微風拂衣裳。二婢扶盥櫛，雙童舁簟床。庭東有茂樹，其下多陰...</td>\n",
              "    </tr>\n",
              "    <tr>\n",
              "      <th>25</th>\n",
              "      <td>白居易</td>\n",
              "      <td>履道西門二首</td>\n",
              "      <td>履道西門有弊居，池塘竹樹繞君廬。豪華肥壯雖無分，飽暖安閒即有餘。行灶朝香炊早飯，小園春暖掇新...</td>\n",
              "    </tr>\n",
              "    <tr>\n",
              "      <th>26</th>\n",
              "      <td>白居易</td>\n",
              "      <td>昨日複今辰</td>\n",
              "      <td>昨日複今辰，悠悠七十春。所經多故處，卻想似前身。散秩優遊老，閒居淨潔貧。螺杯中有物，鶴氅上無...</td>\n",
              "    </tr>\n",
              "    <tr>\n",
              "      <th>27</th>\n",
              "      <td>白居易</td>\n",
              "      <td>不與老為期</td>\n",
              "      <td>不與老為期，因何兩鬢絲？才應免夭促，便已及衰羸。昨夜夢何在，明朝身不知。百憂非我所，三樂是吾...</td>\n",
              "    </tr>\n",
              "    <tr>\n",
              "      <th>28</th>\n",
              "      <td>白居易</td>\n",
              "      <td>閒眠</td>\n",
              "      <td>暖床斜臥日曛腰，一覺閒眠百病銷。儘日一飧茶兩碗，更無所要到明朝。</td>\n",
              "    </tr>\n",
              "    <tr>\n",
              "      <th>29</th>\n",
              "      <td>白居易</td>\n",
              "      <td>和李相公留守題漕上新橋六韻　同用黎字。</td>\n",
              "      <td>選石鋪新路，安橋壓古堤。似從銀漢下，落傍玉川西。影定欄杆倒，標高華表齊。煙開虹半見，月冷鶴雙...</td>\n",
              "    </tr>\n",
              "  </tbody>\n",
              "</table>\n",
              "</div>\n",
              "      <button class=\"colab-df-convert\" onclick=\"convertToInteractive('df-abb0cbc2-2e51-4217-b9da-010d7501bdcf')\"\n",
              "              title=\"Convert this dataframe to an interactive table.\"\n",
              "              style=\"display:none;\">\n",
              "        \n",
              "  <svg xmlns=\"http://www.w3.org/2000/svg\" height=\"24px\"viewBox=\"0 0 24 24\"\n",
              "       width=\"24px\">\n",
              "    <path d=\"M0 0h24v24H0V0z\" fill=\"none\"/>\n",
              "    <path d=\"M18.56 5.44l.94 2.06.94-2.06 2.06-.94-2.06-.94-.94-2.06-.94 2.06-2.06.94zm-11 1L8.5 8.5l.94-2.06 2.06-.94-2.06-.94L8.5 2.5l-.94 2.06-2.06.94zm10 10l.94 2.06.94-2.06 2.06-.94-2.06-.94-.94-2.06-.94 2.06-2.06.94z\"/><path d=\"M17.41 7.96l-1.37-1.37c-.4-.4-.92-.59-1.43-.59-.52 0-1.04.2-1.43.59L10.3 9.45l-7.72 7.72c-.78.78-.78 2.05 0 2.83L4 21.41c.39.39.9.59 1.41.59.51 0 1.02-.2 1.41-.59l7.78-7.78 2.81-2.81c.8-.78.8-2.07 0-2.86zM5.41 20L4 18.59l7.72-7.72 1.47 1.35L5.41 20z\"/>\n",
              "  </svg>\n",
              "      </button>\n",
              "      \n",
              "  <style>\n",
              "    .colab-df-container {\n",
              "      display:flex;\n",
              "      flex-wrap:wrap;\n",
              "      gap: 12px;\n",
              "    }\n",
              "\n",
              "    .colab-df-convert {\n",
              "      background-color: #E8F0FE;\n",
              "      border: none;\n",
              "      border-radius: 50%;\n",
              "      cursor: pointer;\n",
              "      display: none;\n",
              "      fill: #1967D2;\n",
              "      height: 32px;\n",
              "      padding: 0 0 0 0;\n",
              "      width: 32px;\n",
              "    }\n",
              "\n",
              "    .colab-df-convert:hover {\n",
              "      background-color: #E2EBFA;\n",
              "      box-shadow: 0px 1px 2px rgba(60, 64, 67, 0.3), 0px 1px 3px 1px rgba(60, 64, 67, 0.15);\n",
              "      fill: #174EA6;\n",
              "    }\n",
              "\n",
              "    [theme=dark] .colab-df-convert {\n",
              "      background-color: #3B4455;\n",
              "      fill: #D2E3FC;\n",
              "    }\n",
              "\n",
              "    [theme=dark] .colab-df-convert:hover {\n",
              "      background-color: #434B5C;\n",
              "      box-shadow: 0px 1px 3px 1px rgba(0, 0, 0, 0.15);\n",
              "      filter: drop-shadow(0px 1px 2px rgba(0, 0, 0, 0.3));\n",
              "      fill: #FFFFFF;\n",
              "    }\n",
              "  </style>\n",
              "\n",
              "      <script>\n",
              "        const buttonEl =\n",
              "          document.querySelector('#df-abb0cbc2-2e51-4217-b9da-010d7501bdcf button.colab-df-convert');\n",
              "        buttonEl.style.display =\n",
              "          google.colab.kernel.accessAllowed ? 'block' : 'none';\n",
              "\n",
              "        async function convertToInteractive(key) {\n",
              "          const element = document.querySelector('#df-abb0cbc2-2e51-4217-b9da-010d7501bdcf');\n",
              "          const dataTable =\n",
              "            await google.colab.kernel.invokeFunction('convertToInteractive',\n",
              "                                                     [key], {});\n",
              "          if (!dataTable) return;\n",
              "\n",
              "          const docLinkHtml = 'Like what you see? Visit the ' +\n",
              "            '<a target=\"_blank\" href=https://colab.research.google.com/notebooks/data_table.ipynb>data table notebook</a>'\n",
              "            + ' to learn more about interactive tables.';\n",
              "          element.innerHTML = '';\n",
              "          dataTable['output_type'] = 'display_data';\n",
              "          await google.colab.output.renderOutput(dataTable, element);\n",
              "          const docLink = document.createElement('div');\n",
              "          docLink.innerHTML = docLinkHtml;\n",
              "          element.appendChild(docLink);\n",
              "        }\n",
              "      </script>\n",
              "    </div>\n",
              "  </div>\n",
              "  "
            ]
          },
          "metadata": {},
          "execution_count": 3
        }
      ]
    },
    {
      "cell_type": "code",
      "source": [
        "# 你的y不能是字串, 整數 0/1/2\n",
        "# Series.replace({\"要轉的東西\":\"轉成的東西\"})\n",
        "# train[\"作者\"].replace({\"李白\":0})\n",
        "# unique()/value_counts()\n",
        "poets = train[\"作者\"].value_counts().index\n",
        "# p2idx = {}\n",
        "# for i, p in enumerate(poets):\n",
        "#     p2idx[p] = i\n",
        "p2idx = {p:i for i, p in enumerate(poets)}\n",
        "idx2p = {i:p for i, p in enumerate(poets)}\n",
        "y_train = train[\"作者\"].replace(p2idx)\n",
        "y_test = test[\"作者\"].replace(p2idx)\n",
        "y_test"
      ],
      "metadata": {
        "colab": {
          "base_uri": "https://localhost:8080/"
        },
        "id": "7oD9AABy5DUR",
        "outputId": "23fd243e-e26c-4626-f387-32980340a5a8"
      },
      "execution_count": 4,
      "outputs": [
        {
          "output_type": "execute_result",
          "data": {
            "text/plain": [
              "0     1\n",
              "1     1\n",
              "2     1\n",
              "3     1\n",
              "4     1\n",
              "5     1\n",
              "6     1\n",
              "7     1\n",
              "8     1\n",
              "9     1\n",
              "10    0\n",
              "11    0\n",
              "12    0\n",
              "13    0\n",
              "14    0\n",
              "15    0\n",
              "16    0\n",
              "17    0\n",
              "18    0\n",
              "19    0\n",
              "20    2\n",
              "21    2\n",
              "22    2\n",
              "23    2\n",
              "24    2\n",
              "25    2\n",
              "26    2\n",
              "27    2\n",
              "28    2\n",
              "29    2\n",
              "Name: 作者, dtype: int64"
            ]
          },
          "metadata": {},
          "execution_count": 4
        }
      ]
    },
    {
      "cell_type": "markdown",
      "source": [
        "pandas必會兩大操作\n",
        "\n",
        "1.篩選: 準備跟你資料筆數一樣多的True/False Series/DataFrame[True/False]\n",
        "\n",
        "2.轉換: Series.apply(函式不加括號)"
      ],
      "metadata": {
        "id": "XahAaK3CwI_Z"
      }
    },
    {
      "cell_type": "code",
      "source": [
        "import os\n",
        "import jieba\n",
        "if not os.path.exists(\"dict.txt.big\"):\n",
        "    url = \"https://github.com/fxsjy/jieba/raw/master/extra_dict/dict.txt.big\"\n",
        "    urlretrieve(url, \"dict.txt.big\")\n",
        "# 古詩你載入大詞典, 反而有可能有錯, 我已經試過了, 讓他猜比較準\n",
        "# jieba.set_dictionary(\"dict.txt.big\")\n",
        "# 有in(要轉換的), 有out(轉換成的東西)\n",
        "def trans(s):\n",
        "    return \" \".join(jieba.cut(s))\n",
        "x_train = train[\"內容\"].apply(trans)\n",
        "x_test = test[\"內容\"].apply(trans)\n",
        "x_test"
      ],
      "metadata": {
        "id": "RhrYJ2EWvOFr"
      },
      "execution_count": null,
      "outputs": []
    },
    {
      "cell_type": "markdown",
      "source": [
        "只要看到fit_transform類型\n",
        "\n",
        "fit: 找趨勢(欄位有幾種)\n",
        "\n",
        "transform: 根據剛剛找到的欄位來數數\n",
        "\n",
        "train: fit + transform\n",
        "\n",
        "!!!!test: 只transform\n",
        "\n",
        "-> test裡面看到train沒有的詞彙: 忽略"
      ],
      "metadata": {
        "id": "ia24igAp1I2K"
      }
    },
    {
      "cell_type": "code",
      "source": [
        "from sklearn.feature_extraction.text import CountVectorizer\n",
        "vec = CountVectorizer()\n",
        "x_train_vec = vec.fit_transform(x_train)\n",
        "x_test_vec = vec.transform(x_test)"
      ],
      "metadata": {
        "id": "3zQXobWd0Xd5"
      },
      "execution_count": 6,
      "outputs": []
    },
    {
      "cell_type": "code",
      "source": [
        "# 確認一下標點符號和換行都被去掉了 vec.vocabulary_[\"\\r\\n\"]\n",
        "# Sparse: 我只存非0位置\n",
        "x_train_vec"
      ],
      "metadata": {
        "colab": {
          "base_uri": "https://localhost:8080/"
        },
        "id": "v4Zx8HhD4XGT",
        "outputId": "1b1d725d-b20f-4859-b812-c47a5a1a881a"
      },
      "execution_count": 14,
      "outputs": [
        {
          "output_type": "execute_result",
          "data": {
            "text/plain": [
              "<2731x52294 sparse matrix of type '<class 'numpy.int64'>'\n",
              "\twith 85677 stored elements in Compressed Sparse Row format>"
            ]
          },
          "metadata": {},
          "execution_count": 14
        }
      ]
    },
    {
      "cell_type": "code",
      "source": [
        "import numpy as np\n",
        "y_train = np.array(y_train)\n",
        "y_test = np.array(y_test)"
      ],
      "metadata": {
        "id": "MXGZ5zqz-El5"
      },
      "execution_count": 16,
      "outputs": []
    },
    {
      "cell_type": "code",
      "source": [
        "from sklearn.naive_bayes import MultinomialNB\n",
        "clf = MultinomialNB(alpha=0.25)\n",
        "clf.fit(x_train_vec, y_train)"
      ],
      "metadata": {
        "colab": {
          "base_uri": "https://localhost:8080/",
          "height": 74
        },
        "id": "xNgyZcCS9uIu",
        "outputId": "425890bc-8f53-4df5-d155-b26ceafea586"
      },
      "execution_count": 43,
      "outputs": [
        {
          "output_type": "execute_result",
          "data": {
            "text/plain": [
              "MultinomialNB(alpha=0.25)"
            ],
            "text/html": [
              "<style>#sk-container-id-12 {color: black;background-color: white;}#sk-container-id-12 pre{padding: 0;}#sk-container-id-12 div.sk-toggleable {background-color: white;}#sk-container-id-12 label.sk-toggleable__label {cursor: pointer;display: block;width: 100%;margin-bottom: 0;padding: 0.3em;box-sizing: border-box;text-align: center;}#sk-container-id-12 label.sk-toggleable__label-arrow:before {content: \"▸\";float: left;margin-right: 0.25em;color: #696969;}#sk-container-id-12 label.sk-toggleable__label-arrow:hover:before {color: black;}#sk-container-id-12 div.sk-estimator:hover label.sk-toggleable__label-arrow:before {color: black;}#sk-container-id-12 div.sk-toggleable__content {max-height: 0;max-width: 0;overflow: hidden;text-align: left;background-color: #f0f8ff;}#sk-container-id-12 div.sk-toggleable__content pre {margin: 0.2em;color: black;border-radius: 0.25em;background-color: #f0f8ff;}#sk-container-id-12 input.sk-toggleable__control:checked~div.sk-toggleable__content {max-height: 200px;max-width: 100%;overflow: auto;}#sk-container-id-12 input.sk-toggleable__control:checked~label.sk-toggleable__label-arrow:before {content: \"▾\";}#sk-container-id-12 div.sk-estimator input.sk-toggleable__control:checked~label.sk-toggleable__label {background-color: #d4ebff;}#sk-container-id-12 div.sk-label input.sk-toggleable__control:checked~label.sk-toggleable__label {background-color: #d4ebff;}#sk-container-id-12 input.sk-hidden--visually {border: 0;clip: rect(1px 1px 1px 1px);clip: rect(1px, 1px, 1px, 1px);height: 1px;margin: -1px;overflow: hidden;padding: 0;position: absolute;width: 1px;}#sk-container-id-12 div.sk-estimator {font-family: monospace;background-color: #f0f8ff;border: 1px dotted black;border-radius: 0.25em;box-sizing: border-box;margin-bottom: 0.5em;}#sk-container-id-12 div.sk-estimator:hover {background-color: #d4ebff;}#sk-container-id-12 div.sk-parallel-item::after {content: \"\";width: 100%;border-bottom: 1px solid gray;flex-grow: 1;}#sk-container-id-12 div.sk-label:hover label.sk-toggleable__label {background-color: #d4ebff;}#sk-container-id-12 div.sk-serial::before {content: \"\";position: absolute;border-left: 1px solid gray;box-sizing: border-box;top: 0;bottom: 0;left: 50%;z-index: 0;}#sk-container-id-12 div.sk-serial {display: flex;flex-direction: column;align-items: center;background-color: white;padding-right: 0.2em;padding-left: 0.2em;position: relative;}#sk-container-id-12 div.sk-item {position: relative;z-index: 1;}#sk-container-id-12 div.sk-parallel {display: flex;align-items: stretch;justify-content: center;background-color: white;position: relative;}#sk-container-id-12 div.sk-item::before, #sk-container-id-12 div.sk-parallel-item::before {content: \"\";position: absolute;border-left: 1px solid gray;box-sizing: border-box;top: 0;bottom: 0;left: 50%;z-index: -1;}#sk-container-id-12 div.sk-parallel-item {display: flex;flex-direction: column;z-index: 1;position: relative;background-color: white;}#sk-container-id-12 div.sk-parallel-item:first-child::after {align-self: flex-end;width: 50%;}#sk-container-id-12 div.sk-parallel-item:last-child::after {align-self: flex-start;width: 50%;}#sk-container-id-12 div.sk-parallel-item:only-child::after {width: 0;}#sk-container-id-12 div.sk-dashed-wrapped {border: 1px dashed gray;margin: 0 0.4em 0.5em 0.4em;box-sizing: border-box;padding-bottom: 0.4em;background-color: white;}#sk-container-id-12 div.sk-label label {font-family: monospace;font-weight: bold;display: inline-block;line-height: 1.2em;}#sk-container-id-12 div.sk-label-container {text-align: center;}#sk-container-id-12 div.sk-container {/* jupyter's `normalize.less` sets `[hidden] { display: none; }` but bootstrap.min.css set `[hidden] { display: none !important; }` so we also need the `!important` here to be able to override the default hidden behavior on the sphinx rendered scikit-learn.org. See: https://github.com/scikit-learn/scikit-learn/issues/21755 */display: inline-block !important;position: relative;}#sk-container-id-12 div.sk-text-repr-fallback {display: none;}</style><div id=\"sk-container-id-12\" class=\"sk-top-container\"><div class=\"sk-text-repr-fallback\"><pre>MultinomialNB(alpha=0.25)</pre><b>In a Jupyter environment, please rerun this cell to show the HTML representation or trust the notebook. <br />On GitHub, the HTML representation is unable to render, please try loading this page with nbviewer.org.</b></div><div class=\"sk-container\" hidden><div class=\"sk-item\"><div class=\"sk-estimator sk-toggleable\"><input class=\"sk-toggleable__control sk-hidden--visually\" id=\"sk-estimator-id-12\" type=\"checkbox\" checked><label for=\"sk-estimator-id-12\" class=\"sk-toggleable__label sk-toggleable__label-arrow\">MultinomialNB</label><div class=\"sk-toggleable__content\"><pre>MultinomialNB(alpha=0.25)</pre></div></div></div></div></div>"
            ]
          },
          "metadata": {},
          "execution_count": 43
        }
      ]
    },
    {
      "cell_type": "code",
      "source": [
        "from sklearn.metrics import accuracy_score\n",
        "pre = clf.predict(x_test_vec)\n",
        "accuracy_score(y_test, pre)"
      ],
      "metadata": {
        "colab": {
          "base_uri": "https://localhost:8080/"
        },
        "id": "ZDNjdS1W-UQa",
        "outputId": "e9e9dd47-1022-480d-f087-04a8fbcc0221"
      },
      "execution_count": 44,
      "outputs": [
        {
          "output_type": "execute_result",
          "data": {
            "text/plain": [
              "0.8666666666666667"
            ]
          },
          "metadata": {},
          "execution_count": 44
        }
      ]
    },
    {
      "cell_type": "code",
      "source": [
        "from sklearn.metrics import confusion_matrix\n",
        "mat = confusion_matrix(y_test, pre)\n",
        "pd.DataFrame(mat,\n",
        "       index=[\"{}(true)\".format(p) for p in poets],\n",
        "       columns=[\"{}(pre)\".format(p) for p in poets])"
      ],
      "metadata": {
        "colab": {
          "base_uri": "https://localhost:8080/",
          "height": 143
        },
        "id": "i5BVwrTvIYpF",
        "outputId": "cc208375-66eb-47c8-ae06-ed1d8caa2779"
      },
      "execution_count": 34,
      "outputs": [
        {
          "output_type": "execute_result",
          "data": {
            "text/plain": [
              "           杜甫(pre)  李白(pre)  白居易(pre)\n",
              "杜甫(true)        10        0         0\n",
              "李白(true)         1        8         1\n",
              "白居易(true)        1        1         8"
            ],
            "text/html": [
              "\n",
              "  <div id=\"df-612c868e-2a7e-4a69-b661-f2efab0e82e8\">\n",
              "    <div class=\"colab-df-container\">\n",
              "      <div>\n",
              "<style scoped>\n",
              "    .dataframe tbody tr th:only-of-type {\n",
              "        vertical-align: middle;\n",
              "    }\n",
              "\n",
              "    .dataframe tbody tr th {\n",
              "        vertical-align: top;\n",
              "    }\n",
              "\n",
              "    .dataframe thead th {\n",
              "        text-align: right;\n",
              "    }\n",
              "</style>\n",
              "<table border=\"1\" class=\"dataframe\">\n",
              "  <thead>\n",
              "    <tr style=\"text-align: right;\">\n",
              "      <th></th>\n",
              "      <th>杜甫(pre)</th>\n",
              "      <th>李白(pre)</th>\n",
              "      <th>白居易(pre)</th>\n",
              "    </tr>\n",
              "  </thead>\n",
              "  <tbody>\n",
              "    <tr>\n",
              "      <th>杜甫(true)</th>\n",
              "      <td>10</td>\n",
              "      <td>0</td>\n",
              "      <td>0</td>\n",
              "    </tr>\n",
              "    <tr>\n",
              "      <th>李白(true)</th>\n",
              "      <td>1</td>\n",
              "      <td>8</td>\n",
              "      <td>1</td>\n",
              "    </tr>\n",
              "    <tr>\n",
              "      <th>白居易(true)</th>\n",
              "      <td>1</td>\n",
              "      <td>1</td>\n",
              "      <td>8</td>\n",
              "    </tr>\n",
              "  </tbody>\n",
              "</table>\n",
              "</div>\n",
              "      <button class=\"colab-df-convert\" onclick=\"convertToInteractive('df-612c868e-2a7e-4a69-b661-f2efab0e82e8')\"\n",
              "              title=\"Convert this dataframe to an interactive table.\"\n",
              "              style=\"display:none;\">\n",
              "        \n",
              "  <svg xmlns=\"http://www.w3.org/2000/svg\" height=\"24px\"viewBox=\"0 0 24 24\"\n",
              "       width=\"24px\">\n",
              "    <path d=\"M0 0h24v24H0V0z\" fill=\"none\"/>\n",
              "    <path d=\"M18.56 5.44l.94 2.06.94-2.06 2.06-.94-2.06-.94-.94-2.06-.94 2.06-2.06.94zm-11 1L8.5 8.5l.94-2.06 2.06-.94-2.06-.94L8.5 2.5l-.94 2.06-2.06.94zm10 10l.94 2.06.94-2.06 2.06-.94-2.06-.94-.94-2.06-.94 2.06-2.06.94z\"/><path d=\"M17.41 7.96l-1.37-1.37c-.4-.4-.92-.59-1.43-.59-.52 0-1.04.2-1.43.59L10.3 9.45l-7.72 7.72c-.78.78-.78 2.05 0 2.83L4 21.41c.39.39.9.59 1.41.59.51 0 1.02-.2 1.41-.59l7.78-7.78 2.81-2.81c.8-.78.8-2.07 0-2.86zM5.41 20L4 18.59l7.72-7.72 1.47 1.35L5.41 20z\"/>\n",
              "  </svg>\n",
              "      </button>\n",
              "      \n",
              "  <style>\n",
              "    .colab-df-container {\n",
              "      display:flex;\n",
              "      flex-wrap:wrap;\n",
              "      gap: 12px;\n",
              "    }\n",
              "\n",
              "    .colab-df-convert {\n",
              "      background-color: #E8F0FE;\n",
              "      border: none;\n",
              "      border-radius: 50%;\n",
              "      cursor: pointer;\n",
              "      display: none;\n",
              "      fill: #1967D2;\n",
              "      height: 32px;\n",
              "      padding: 0 0 0 0;\n",
              "      width: 32px;\n",
              "    }\n",
              "\n",
              "    .colab-df-convert:hover {\n",
              "      background-color: #E2EBFA;\n",
              "      box-shadow: 0px 1px 2px rgba(60, 64, 67, 0.3), 0px 1px 3px 1px rgba(60, 64, 67, 0.15);\n",
              "      fill: #174EA6;\n",
              "    }\n",
              "\n",
              "    [theme=dark] .colab-df-convert {\n",
              "      background-color: #3B4455;\n",
              "      fill: #D2E3FC;\n",
              "    }\n",
              "\n",
              "    [theme=dark] .colab-df-convert:hover {\n",
              "      background-color: #434B5C;\n",
              "      box-shadow: 0px 1px 3px 1px rgba(0, 0, 0, 0.15);\n",
              "      filter: drop-shadow(0px 1px 2px rgba(0, 0, 0, 0.3));\n",
              "      fill: #FFFFFF;\n",
              "    }\n",
              "  </style>\n",
              "\n",
              "      <script>\n",
              "        const buttonEl =\n",
              "          document.querySelector('#df-612c868e-2a7e-4a69-b661-f2efab0e82e8 button.colab-df-convert');\n",
              "        buttonEl.style.display =\n",
              "          google.colab.kernel.accessAllowed ? 'block' : 'none';\n",
              "\n",
              "        async function convertToInteractive(key) {\n",
              "          const element = document.querySelector('#df-612c868e-2a7e-4a69-b661-f2efab0e82e8');\n",
              "          const dataTable =\n",
              "            await google.colab.kernel.invokeFunction('convertToInteractive',\n",
              "                                                     [key], {});\n",
              "          if (!dataTable) return;\n",
              "\n",
              "          const docLinkHtml = 'Like what you see? Visit the ' +\n",
              "            '<a target=\"_blank\" href=https://colab.research.google.com/notebooks/data_table.ipynb>data table notebook</a>'\n",
              "            + ' to learn more about interactive tables.';\n",
              "          element.innerHTML = '';\n",
              "          dataTable['output_type'] = 'display_data';\n",
              "          await google.colab.output.renderOutput(dataTable, element);\n",
              "          const docLink = document.createElement('div');\n",
              "          docLink.innerHTML = docLinkHtml;\n",
              "          element.appendChild(docLink);\n",
              "        }\n",
              "      </script>\n",
              "    </div>\n",
              "  </div>\n",
              "  "
            ]
          },
          "metadata": {},
          "execution_count": 34
        }
      ]
    },
    {
      "cell_type": "code",
      "source": [
        "# 如果你試imbalanced, 你要使用f1 score來代替\n",
        "from sklearn.metrics import f1_score\n",
        "f1_score(y_test, pre, average=\"micro\")"
      ],
      "metadata": {
        "colab": {
          "base_uri": "https://localhost:8080/"
        },
        "id": "9Pad7mGPUv99",
        "outputId": "0798229b-6e22-4dcc-97ff-3665ea166e01"
      },
      "execution_count": 47,
      "outputs": [
        {
          "output_type": "execute_result",
          "data": {
            "text/plain": [
              "0.8666666666666667"
            ]
          },
          "metadata": {},
          "execution_count": 47
        }
      ]
    }
  ]
}