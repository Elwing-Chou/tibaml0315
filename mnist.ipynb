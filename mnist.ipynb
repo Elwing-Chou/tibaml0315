{
  "nbformat": 4,
  "nbformat_minor": 0,
  "metadata": {
    "colab": {
      "provenance": [],
      "authorship_tag": "ABX9TyP9HC8uQcUdc9FckN4AnbMl",
      "include_colab_link": true
    },
    "kernelspec": {
      "name": "python3",
      "display_name": "Python 3"
    },
    "language_info": {
      "name": "python"
    }
  },
  "cells": [
    {
      "cell_type": "markdown",
      "metadata": {
        "id": "view-in-github",
        "colab_type": "text"
      },
      "source": [
        "<a href=\"https://colab.research.google.com/github/Elwing-Chou/tibaml0315/blob/main/mnist.ipynb\" target=\"_parent\"><img src=\"https://colab.research.google.com/assets/colab-badge.svg\" alt=\"Open In Colab\"/></a>"
      ]
    },
    {
      "cell_type": "markdown",
      "source": [
        "from keras import XXX\n",
        "-> from tensorflow.keras import xx"
      ],
      "metadata": {
        "id": "-bGTRkwj99ZR"
      }
    },
    {
      "cell_type": "code",
      "execution_count": 1,
      "metadata": {
        "id": "HepgSGw88p-g"
      },
      "outputs": [],
      "source": [
        "from tensorflow.keras.datasets import mnist\n",
        "# ((x_train, y_train), (x_test, y_test))\n",
        "(x_train, y_train), (x_test, y_test) = mnist.load_data()"
      ]
    },
    {
      "cell_type": "code",
      "source": [
        "print(x_train.shape)\n",
        "print(x_test.shape)\n",
        "print(y_train.shape)\n",
        "print(y_test.shape)"
      ],
      "metadata": {
        "colab": {
          "base_uri": "https://localhost:8080/"
        },
        "id": "EVIXGEMG_RF0",
        "outputId": "e7d55d54-d562-49ff-cf5b-ad4713b34828"
      },
      "execution_count": 2,
      "outputs": [
        {
          "output_type": "stream",
          "name": "stdout",
          "text": [
            "(60000, 28, 28)\n",
            "(10000, 28, 28)\n",
            "(60000,)\n",
            "(10000,)\n"
          ]
        }
      ]
    },
    {
      "cell_type": "code",
      "source": [
        "# colormap: https://matplotlib.org/stable/tutorials/colors/colormaps.html\n",
        "# reverse: _r\n",
        "import pandas as pd\n",
        "import matplotlib.pyplot as plt\n",
        "\n",
        "# 灰階圖片(0: 黑色 255: 白色)\n",
        "pd.DataFrame(x_train[0])\n",
        "plt.imshow(x_train[0], cmap=\"gray\")"
      ],
      "metadata": {
        "colab": {
          "base_uri": "https://localhost:8080/",
          "height": 447
        },
        "id": "U_MODKRlAbmh",
        "outputId": "25b8b536-a9c7-4820-c2e9-0c4237cd2fc3"
      },
      "execution_count": 3,
      "outputs": [
        {
          "output_type": "execute_result",
          "data": {
            "text/plain": [
              "<matplotlib.image.AxesImage at 0x7ff1e1c33100>"
            ]
          },
          "metadata": {},
          "execution_count": 3
        },
        {
          "output_type": "display_data",
          "data": {
            "text/plain": [
              "<Figure size 640x480 with 1 Axes>"
            ],
            "image/png": "[encoded data removed]"
          },
          "metadata": {}
        }
      ]
    },
    {
      "cell_type": "code",
      "source": [
        "# models(地基): Sequential(一層疊一層) Model(自由疊層)\n",
        "# layers: Dense(全連接層)\n",
        "from tensorflow.keras.models import Sequential\n",
        "from tensorflow.keras.layers import Dense\n",
        "layers = [\n",
        "    # 784 * 128 + 128(bias)\n",
        "    Dense(128, activation=\"sigmoid\", input_dim=784),\n",
        "    # 128 * 10 + 10(bias)\n",
        "    Dense(10, activation=\"sigmoid\")\n",
        "]\n",
        "model = Sequential(layers)\n",
        "model.summary()"
      ],
      "metadata": {
        "colab": {
          "base_uri": "https://localhost:8080/"
        },
        "id": "vaouYTI7N0Ha",
        "outputId": "f2aa8e7f-b943-4b25-a534-327235030ade"
      },
      "execution_count": 4,
      "outputs": [
        {
          "output_type": "stream",
          "name": "stdout",
          "text": [
            "Model: \"sequential\"\n",
            "_________________________________________________________________\n",
            " Layer (type)                Output Shape              Param #   \n",
            "=================================================================\n",
            " dense (Dense)               (None, 128)               100480    \n",
            "                                                                 \n",
            " dense_1 (Dense)             (None, 10)                1290      \n",
            "                                                                 \n",
            "=================================================================\n",
            "Total params: 101,770\n",
            "Trainable params: 101,770\n",
            "Non-trainable params: 0\n",
            "_________________________________________________________________\n"
          ]
        }
      ]
    },
    {
      "cell_type": "code",
      "source": [
        "from tensorflow.keras.losses import CategoricalCrossentropy\n",
        "model.compile(loss=CategoricalCrossentropy(), metrics=[\"accuracy\"])"
      ],
      "metadata": {
        "id": "FCBx5Ohh4OTX"
      },
      "execution_count": 5,
      "outputs": []
    },
    {
      "cell_type": "code",
      "source": [
        "# y\n",
        "from tensorflow.keras.utils import to_categorical\n",
        "y_train_cat = to_categorical(y_train, num_classes=10)\n",
        "y_test_cat = to_categorical(y_test, num_classes=10)\n",
        "print(y_train[0])\n",
        "print(y_train_cat[0])"
      ],
      "metadata": {
        "colab": {
          "base_uri": "https://localhost:8080/"
        },
        "id": "i_Ee8Ban5_51",
        "outputId": "2e6f3b39-16e6-41a9-f28f-6c530f77ce86"
      },
      "execution_count": 6,
      "outputs": [
        {
          "output_type": "stream",
          "name": "stdout",
          "text": [
            "5\n",
            "[0. 0. 0. 0. 0. 1. 0. 0. 0. 0.]\n"
          ]
        }
      ]
    },
    {
      "cell_type": "code",
      "source": [
        "import numpy as np\n",
        "# tensorflow建議: x(0~1) x(-1~1)\n",
        "# tensorflow隨機的weight有配合\n",
        "# reshape你可以把一個位置替換成-1(讓他自己算)\n",
        "# x_train.reshape(60000, 784)\n",
        "x_train_norm = x_train.reshape(-1, 784)\n",
        "x_test_norm = x_test.reshape(-1, 784)\n",
        "print(x_train_norm.shape)\n",
        "print(x_test_norm.shape)"
      ],
      "metadata": {
        "colab": {
          "base_uri": "https://localhost:8080/"
        },
        "id": "3F84ND7b7xBn",
        "outputId": "7ec9da49-def9-458c-da7b-ab235cbf4565"
      },
      "execution_count": 7,
      "outputs": [
        {
          "output_type": "stream",
          "name": "stdout",
          "text": [
            "(60000, 784)\n",
            "(10000, 784)\n"
          ]
        }
      ]
    },
    {
      "cell_type": "code",
      "source": [
        "# epochs: 決定要把整份資料看過幾輪\n",
        "# 絕對不是越多越好, 越多越過擬和, 反而導致現實資料錯更多\n",
        "# validation_split: 擬要切出一部分不給模型看, 來驗證這組參數表現得如何\n",
        "# 一輪: 54000(90%) / 100 -> 540\n",
        "# 10 epochs: 540 * 10\n",
        "model.fit(x_train_norm,\n",
        "     y_train_cat,\n",
        "     batch_size=100,\n",
        "     epochs=40,\n",
        "     validation_split=0.1)"
      ],
      "metadata": {
        "colab": {
          "base_uri": "https://localhost:8080/"
        },
        "id": "36Sxr2xf59Sg",
        "outputId": "2af6bf3d-9be9-419a-e12b-0be2c8cf2406"
      },
      "execution_count": 10,
      "outputs": [
        {
          "output_type": "stream",
          "name": "stdout",
          "text": [
            "Epoch 1/40\n",
            "540/540 [==============================] - 2s 4ms/step - loss: 0.1090 - accuracy: 0.9665 - val_loss: 0.1128 - val_accuracy: 0.9695\n",
            "Epoch 2/40\n",
            "540/540 [==============================] - 2s 3ms/step - loss: 0.1097 - accuracy: 0.9663 - val_loss: 0.1128 - val_accuracy: 0.9667\n",
            "Epoch 3/40\n",
            "540/540 [==============================] - 2s 3ms/step - loss: 0.1085 - accuracy: 0.9672 - val_loss: 0.1118 - val_accuracy: 0.9663\n",
            "Epoch 4/40\n",
            "540/540 [==============================] - 2s 3ms/step - loss: 0.1109 - accuracy: 0.9667 - val_loss: 0.1126 - val_accuracy: 0.9677\n",
            "Epoch 5/40\n",
            "540/540 [==============================] - 2s 3ms/step - loss: 0.1079 - accuracy: 0.9675 - val_loss: 0.1126 - val_accuracy: 0.9655\n",
            "Epoch 6/40\n",
            "540/540 [==============================] - 3s 5ms/step - loss: 0.1035 - accuracy: 0.9693 - val_loss: 0.1155 - val_accuracy: 0.9673\n",
            "Epoch 7/40\n",
            "540/540 [==============================] - 2s 4ms/step - loss: 0.1064 - accuracy: 0.9685 - val_loss: 0.1113 - val_accuracy: 0.9693\n",
            "Epoch 8/40\n",
            "540/540 [==============================] - 2s 3ms/step - loss: 0.1037 - accuracy: 0.9690 - val_loss: 0.1124 - val_accuracy: 0.9660\n",
            "Epoch 9/40\n",
            "540/540 [==============================] - 2s 4ms/step - loss: 0.1048 - accuracy: 0.9680 - val_loss: 0.1123 - val_accuracy: 0.9687\n",
            "Epoch 10/40\n",
            "540/540 [==============================] - 2s 3ms/step - loss: 0.1006 - accuracy: 0.9693 - val_loss: 0.1089 - val_accuracy: 0.9680\n",
            "Epoch 11/40\n",
            "540/540 [==============================] - 2s 3ms/step - loss: 0.1014 - accuracy: 0.9693 - val_loss: 0.1081 - val_accuracy: 0.9685\n",
            "Epoch 12/40\n",
            "540/540 [==============================] - 2s 5ms/step - loss: 0.1024 - accuracy: 0.9687 - val_loss: 0.1032 - val_accuracy: 0.9692\n",
            "Epoch 13/40\n",
            "540/540 [==============================] - 2s 4ms/step - loss: 0.1015 - accuracy: 0.9686 - val_loss: 0.1135 - val_accuracy: 0.9668\n",
            "Epoch 14/40\n",
            "540/540 [==============================] - 2s 3ms/step - loss: 0.0988 - accuracy: 0.9701 - val_loss: 0.1006 - val_accuracy: 0.9700\n",
            "Epoch 15/40\n",
            "540/540 [==============================] - 2s 3ms/step - loss: 0.1014 - accuracy: 0.9694 - val_loss: 0.1042 - val_accuracy: 0.9695\n",
            "Epoch 16/40\n",
            "540/540 [==============================] - 2s 4ms/step - loss: 0.0971 - accuracy: 0.9707 - val_loss: 0.1068 - val_accuracy: 0.9702\n",
            "Epoch 17/40\n",
            "540/540 [==============================] - 2s 3ms/step - loss: 0.0998 - accuracy: 0.9696 - val_loss: 0.1095 - val_accuracy: 0.9687\n",
            "Epoch 18/40\n",
            "540/540 [==============================] - 2s 4ms/step - loss: 0.0979 - accuracy: 0.9704 - val_loss: 0.1033 - val_accuracy: 0.9700\n",
            "Epoch 19/40\n",
            "540/540 [==============================] - 3s 5ms/step - loss: 0.0985 - accuracy: 0.9699 - val_loss: 0.1051 - val_accuracy: 0.9703\n",
            "Epoch 20/40\n",
            "540/540 [==============================] - 2s 3ms/step - loss: 0.0987 - accuracy: 0.9698 - val_loss: 0.1068 - val_accuracy: 0.9702\n",
            "Epoch 21/40\n",
            "540/540 [==============================] - 2s 4ms/step - loss: 0.0996 - accuracy: 0.9701 - val_loss: 0.1068 - val_accuracy: 0.9687\n",
            "Epoch 22/40\n",
            "540/540 [==============================] - 2s 4ms/step - loss: 0.0989 - accuracy: 0.9713 - val_loss: 0.1008 - val_accuracy: 0.9722\n",
            "Epoch 23/40\n",
            "540/540 [==============================] - 2s 3ms/step - loss: 0.0973 - accuracy: 0.9704 - val_loss: 0.1065 - val_accuracy: 0.9718\n",
            "Epoch 24/40\n",
            "540/540 [==============================] - 2s 4ms/step - loss: 0.0984 - accuracy: 0.9698 - val_loss: 0.1041 - val_accuracy: 0.9703\n",
            "Epoch 25/40\n",
            "540/540 [==============================] - 3s 5ms/step - loss: 0.0972 - accuracy: 0.9710 - val_loss: 0.0974 - val_accuracy: 0.9735\n",
            "Epoch 26/40\n",
            "540/540 [==============================] - 2s 3ms/step - loss: 0.0965 - accuracy: 0.9709 - val_loss: 0.1046 - val_accuracy: 0.9715\n",
            "Epoch 27/40\n",
            "540/540 [==============================] - 2s 3ms/step - loss: 0.0961 - accuracy: 0.9712 - val_loss: 0.1095 - val_accuracy: 0.9688\n",
            "Epoch 28/40\n",
            "540/540 [==============================] - 2s 4ms/step - loss: 0.0947 - accuracy: 0.9716 - val_loss: 0.1022 - val_accuracy: 0.9717\n",
            "Epoch 29/40\n",
            "540/540 [==============================] - 2s 3ms/step - loss: 0.0947 - accuracy: 0.9711 - val_loss: 0.1023 - val_accuracy: 0.9730\n",
            "Epoch 30/40\n",
            "540/540 [==============================] - 2s 3ms/step - loss: 0.0960 - accuracy: 0.9705 - val_loss: 0.1024 - val_accuracy: 0.9700\n",
            "Epoch 31/40\n",
            "540/540 [==============================] - 3s 5ms/step - loss: 0.0960 - accuracy: 0.9713 - val_loss: 0.1062 - val_accuracy: 0.9667\n",
            "Epoch 32/40\n",
            "540/540 [==============================] - 2s 4ms/step - loss: 0.0908 - accuracy: 0.9725 - val_loss: 0.1053 - val_accuracy: 0.9705\n",
            "Epoch 33/40\n",
            "540/540 [==============================] - 2s 4ms/step - loss: 0.0915 - accuracy: 0.9725 - val_loss: 0.1052 - val_accuracy: 0.9713\n",
            "Epoch 34/40\n",
            "540/540 [==============================] - 2s 3ms/step - loss: 0.0924 - accuracy: 0.9725 - val_loss: 0.1095 - val_accuracy: 0.9688\n",
            "Epoch 35/40\n",
            "540/540 [==============================] - 2s 3ms/step - loss: 0.0940 - accuracy: 0.9721 - val_loss: 0.1042 - val_accuracy: 0.9700\n",
            "Epoch 36/40\n",
            "540/540 [==============================] - 2s 3ms/step - loss: 0.0951 - accuracy: 0.9713 - val_loss: 0.0979 - val_accuracy: 0.9727\n",
            "Epoch 37/40\n",
            "540/540 [==============================] - 3s 5ms/step - loss: 0.0935 - accuracy: 0.9718 - val_loss: 0.1048 - val_accuracy: 0.9712\n",
            "Epoch 38/40\n",
            "540/540 [==============================] - 2s 4ms/step - loss: 0.0935 - accuracy: 0.9716 - val_loss: 0.1046 - val_accuracy: 0.9702\n",
            "Epoch 39/40\n",
            "540/540 [==============================] - 2s 4ms/step - loss: 0.0921 - accuracy: 0.9726 - val_loss: 0.1108 - val_accuracy: 0.9700\n",
            "Epoch 40/40\n",
            "540/540 [==============================] - 2s 3ms/step - loss: 0.0887 - accuracy: 0.9730 - val_loss: 0.1106 - val_accuracy: 0.9703\n"
          ]
        },
        {
          "output_type": "execute_result",
          "data": {
            "text/plain": [
              "<keras.callbacks.History at 0x7ff1c6042100>"
            ]
          },
          "metadata": {},
          "execution_count": 10
        }
      ]
    },
    {
      "cell_type": "code",
      "source": [
        "# import math\n",
        "# cases = [\n",
        "#     (0.9999, 0.0001),\n",
        "#     (0.5, 0.5),\n",
        "#     (0.0001, 0.9999),\n",
        "#     (0.6, 0.4)\n",
        "# ]\n",
        "# for q1, q2 in cases:\n",
        "#     ce = 0.6 * math.log(1/q1, 2) + 0.4 * math.log(1/q2, 2)\n",
        "#     print(q1, q2, \"->\", ce)"
      ],
      "metadata": {
        "id": "vEfisQJfTZ7L"
      },
      "execution_count": 9,
      "outputs": []
    }
  ]
}