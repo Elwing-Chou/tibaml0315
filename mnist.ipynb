{
  "nbformat": 4,
  "nbformat_minor": 0,
  "metadata": {
    "colab": {
      "provenance": [],
      "authorship_tag": "ABX9TyPNka2xlW2DGTOETVUOkLzV",
      "include_colab_link": true
    },
    "kernelspec": {
      "name": "python3",
      "display_name": "Python 3"
    },
    "language_info": {
      "name": "python"
    },
    "accelerator": "GPU",
    "gpuClass": "standard"
  },
  "cells": [
    {
      "cell_type": "markdown",
      "metadata": {
        "id": "view-in-github",
        "colab_type": "text"
      },
      "source": [
        "<a href=\"https://colab.research.google.com/github/Elwing-Chou/tibaml0315/blob/main/mnist.ipynb\" target=\"_parent\"><img src=\"https://colab.research.google.com/assets/colab-badge.svg\" alt=\"Open In Colab\"/></a>"
      ]
    },
    {
      "cell_type": "markdown",
      "source": [
        "from keras import XXX\n",
        "-> from tensorflow.keras import xx"
      ],
      "metadata": {
        "id": "-bGTRkwj99ZR"
      }
    },
    {
      "cell_type": "code",
      "execution_count": 24,
      "metadata": {
        "id": "HepgSGw88p-g"
      },
      "outputs": [],
      "source": [
        "from tensorflow.keras.datasets import mnist\n",
        "# ((x_train, y_train), (x_test, y_test))\n",
        "(x_train, y_train), (x_test, y_test) = mnist.load_data()"
      ]
    },
    {
      "cell_type": "code",
      "source": [
        "print(x_train.shape)\n",
        "print(x_test.shape)\n",
        "print(y_train.shape)\n",
        "print(y_test.shape)"
      ],
      "metadata": {
        "colab": {
          "base_uri": "https://localhost:8080/"
        },
        "id": "EVIXGEMG_RF0",
        "outputId": "da9d005e-676f-4a09-810b-4dc2fb8209db"
      },
      "execution_count": 25,
      "outputs": [
        {
          "output_type": "stream",
          "name": "stdout",
          "text": [
            "(60000, 28, 28)\n",
            "(10000, 28, 28)\n",
            "(60000,)\n",
            "(10000,)\n"
          ]
        }
      ]
    },
    {
      "cell_type": "code",
      "source": [
        "# colormap: https://matplotlib.org/stable/tutorials/colors/colormaps.html\n",
        "# reverse: _r\n",
        "import pandas as pd\n",
        "import matplotlib.pyplot as plt\n",
        "\n",
        "# 灰階圖片(0: 黑色 255: 白色)\n",
        "pd.DataFrame(x_train[0])\n",
        "plt.imshow(x_train[0], cmap=\"gray\")"
      ],
      "metadata": {
        "colab": {
          "base_uri": "https://localhost:8080/",
          "height": 447
        },
        "id": "U_MODKRlAbmh",
        "outputId": "f658e993-6387-4bea-f59d-26539bd63f56"
      },
      "execution_count": 26,
      "outputs": [
        {
          "output_type": "execute_result",
          "data": {
            "text/plain": [
              "<matplotlib.image.AxesImage at 0x7f6a254fabe0>"
            ]
          },
          "metadata": {},
          "execution_count": 26
        },
        {
          "output_type": "display_data",
          "data": {
            "text/plain": [
              "<Figure size 640x480 with 1 Axes>"
            ],
            "image/png": "[encoded data removed]"
          },
          "metadata": {}
        }
      ]
    },
    {
      "cell_type": "markdown",
      "source": [
        "## 激活函式的選擇很重要\n",
        "\n",
        "1. 輸出層: 看狀況, 分類: a. 互斥(softmax) b. 不互斥(sigmoid)\n",
        "2. 中間層: relu family(m=1)"
      ],
      "metadata": {
        "id": "Qh3rgEA-un1B"
      }
    },
    {
      "cell_type": "code",
      "source": [
        "# models(地基): Sequential(一層疊一層) Model(自由疊層)\n",
        "# layers: Dense(全連接層)\n",
        "from tensorflow.keras.models import Sequential\n",
        "from tensorflow.keras.layers import Dense\n",
        "layers = [\n",
        "    # 784 * 128 + 128(bias)\n",
        "    Dense(256, activation=\"relu\", input_dim=784),\n",
        "    # 128 * 10 + 10(bias)\n",
        "    Dense(10, activation=\"softmax\")\n",
        "]\n",
        "model = Sequential(layers)\n",
        "model.summary()"
      ],
      "metadata": {
        "colab": {
          "base_uri": "https://localhost:8080/"
        },
        "id": "vaouYTI7N0Ha",
        "outputId": "bbdb28d5-9571-4f4f-9f5e-601d7e581bcb"
      },
      "execution_count": 27,
      "outputs": [
        {
          "output_type": "stream",
          "name": "stdout",
          "text": [
            "Model: \"sequential_2\"\n",
            "_________________________________________________________________\n",
            " Layer (type)                Output Shape              Param #   \n",
            "=================================================================\n",
            " dense_4 (Dense)             (None, 256)               200960    \n",
            "                                                                 \n",
            " dense_5 (Dense)             (None, 10)                2570      \n",
            "                                                                 \n",
            "=================================================================\n",
            "Total params: 203,530\n",
            "Trainable params: 203,530\n",
            "Non-trainable params: 0\n",
            "_________________________________________________________________\n"
          ]
        }
      ]
    },
    {
      "cell_type": "markdown",
      "source": [
        "$ p_i = 正確答案 $\n",
        "\n",
        "$ q_i = 預測值 $\n",
        "\n",
        "$ categorical crossentropy(標準ce) = \\sum p_i log\\frac{1}{q_i}$\n",
        "\n",
        "如果你最後輸出只有一個的時候你要使用 BinaryCrossentropy\n",
        "\n",
        "因為你輸出的q -> q: 1這種東西 (1-q): 另外一種東西\n",
        "\n",
        "$ binary crossentropy = p log \\frac {1}{q} + (1-p) log \\frac {1}{1-q} $ "
      ],
      "metadata": {
        "id": "hBPX1k6UOmIx"
      }
    },
    {
      "cell_type": "code",
      "source": [
        "# crossentropy:\n",
        "from tensorflow.keras.losses import CategoricalCrossentropy\n",
        "model.compile(loss=CategoricalCrossentropy(), metrics=[\"accuracy\"])"
      ],
      "metadata": {
        "id": "FCBx5Ohh4OTX"
      },
      "execution_count": 28,
      "outputs": []
    },
    {
      "cell_type": "code",
      "source": [
        "# y\n",
        "from tensorflow.keras.utils import to_categorical\n",
        "y_train_cat = to_categorical(y_train, num_classes=10)\n",
        "y_test_cat = to_categorical(y_test, num_classes=10)\n",
        "print(y_train[0])\n",
        "print(y_train_cat[0])"
      ],
      "metadata": {
        "colab": {
          "base_uri": "https://localhost:8080/"
        },
        "id": "i_Ee8Ban5_51",
        "outputId": "7969598d-c05d-4e1d-887f-8bea9f42c010"
      },
      "execution_count": 29,
      "outputs": [
        {
          "output_type": "stream",
          "name": "stdout",
          "text": [
            "5\n",
            "[0. 0. 0. 0. 0. 1. 0. 0. 0. 0.]\n"
          ]
        }
      ]
    },
    {
      "cell_type": "code",
      "source": [
        "import numpy as np\n",
        "# tensorflow建議: x(0~1) x(-1~1)\n",
        "# tensorflow隨機的weight有配合\n",
        "# reshape你可以把一個位置替換成-1(讓他自己算)\n",
        "# x_train.reshape(60000, 784)\n",
        "x_train_norm = x_train.reshape(-1, 784)\n",
        "x_test_norm = x_test.reshape(-1, 784)\n",
        "print(x_train_norm.shape)\n",
        "print(x_test_norm.shape)"
      ],
      "metadata": {
        "colab": {
          "base_uri": "https://localhost:8080/"
        },
        "id": "3F84ND7b7xBn",
        "outputId": "469afba3-619a-4771-de69-7da389cce50c"
      },
      "execution_count": 30,
      "outputs": [
        {
          "output_type": "stream",
          "name": "stdout",
          "text": [
            "(60000, 784)\n",
            "(10000, 784)\n"
          ]
        }
      ]
    },
    {
      "cell_type": "code",
      "source": [
        "# epochs: 決定要把整份資料看過幾輪\n",
        "# 絕對不是越多越好, 越多越過擬和, 反而導致現實資料錯更多\n",
        "# validation_split: 擬要切出一部分不給模型看, 來驗證這組參數表現得如何\n",
        "# 一輪: 54000(90%) / 100 -> 540\n",
        "# 10 epochs: 540 * 10\n",
        "from tensorflow.keras.callbacks import EarlyStopping, ModelCheckpoint\n",
        "c = [\n",
        "    ModelCheckpoint(\"mnist.h5\", save_best_only=True),\n",
        "    EarlyStopping(patience=5, restore_best_weights=True)\n",
        "]\n",
        "model.fit(x_train_norm,\n",
        "     y_train_cat,\n",
        "     batch_size=100,\n",
        "     epochs=40,\n",
        "     validation_split=0.1,\n",
        "     callbacks=c)"
      ],
      "metadata": {
        "colab": {
          "base_uri": "https://localhost:8080/"
        },
        "id": "36Sxr2xf59Sg",
        "outputId": "8a1beec9-bbb6-4be9-b757-4f5901fbc605"
      },
      "execution_count": 31,
      "outputs": [
        {
          "output_type": "stream",
          "name": "stdout",
          "text": [
            "Epoch 1/40\n",
            "540/540 [==============================] - 2s 3ms/step - loss: 4.5653 - accuracy: 0.8860 - val_loss: 0.7557 - val_accuracy: 0.9457\n",
            "Epoch 2/40\n",
            "540/540 [==============================] - 2s 3ms/step - loss: 0.6552 - accuracy: 0.9396 - val_loss: 0.4968 - val_accuracy: 0.9478\n",
            "Epoch 3/40\n",
            "540/540 [==============================] - 2s 3ms/step - loss: 0.4322 - accuracy: 0.9553 - val_loss: 0.4523 - val_accuracy: 0.9552\n",
            "Epoch 4/40\n",
            "540/540 [==============================] - 2s 4ms/step - loss: 0.3157 - accuracy: 0.9640 - val_loss: 0.5020 - val_accuracy: 0.9610\n",
            "Epoch 5/40\n",
            "540/540 [==============================] - 2s 4ms/step - loss: 0.2816 - accuracy: 0.9701 - val_loss: 0.4183 - val_accuracy: 0.9652\n",
            "Epoch 6/40\n",
            "540/540 [==============================] - 1s 3ms/step - loss: 0.2232 - accuracy: 0.9747 - val_loss: 0.3998 - val_accuracy: 0.9702\n",
            "Epoch 7/40\n",
            "540/540 [==============================] - 1s 3ms/step - loss: 0.2072 - accuracy: 0.9774 - val_loss: 0.4567 - val_accuracy: 0.9667\n",
            "Epoch 8/40\n",
            "540/540 [==============================] - 1s 3ms/step - loss: 0.1792 - accuracy: 0.9796 - val_loss: 0.4544 - val_accuracy: 0.9720\n",
            "Epoch 9/40\n",
            "540/540 [==============================] - 2s 3ms/step - loss: 0.1863 - accuracy: 0.9816 - val_loss: 0.4742 - val_accuracy: 0.9708\n",
            "Epoch 10/40\n",
            "540/540 [==============================] - 2s 3ms/step - loss: 0.1541 - accuracy: 0.9836 - val_loss: 0.5346 - val_accuracy: 0.9740\n",
            "Epoch 11/40\n",
            "540/540 [==============================] - 2s 4ms/step - loss: 0.1506 - accuracy: 0.9854 - val_loss: 0.5698 - val_accuracy: 0.9723\n"
          ]
        },
        {
          "output_type": "execute_result",
          "data": {
            "text/plain": [
              "<keras.callbacks.History at 0x7f6a285c8040>"
            ]
          },
          "metadata": {},
          "execution_count": 31
        }
      ]
    },
    {
      "cell_type": "code",
      "source": [
        "model.evaluate(x_test_norm, y_test_cat)"
      ],
      "metadata": {
        "colab": {
          "base_uri": "https://localhost:8080/"
        },
        "id": "cvoasl7nd2qU",
        "outputId": "d86cb0ae-6746-44bb-aa40-de6870632c3f"
      },
      "execution_count": 32,
      "outputs": [
        {
          "output_type": "stream",
          "name": "stdout",
          "text": [
            "313/313 [==============================] - 1s 3ms/step - loss: 0.4149 - accuracy: 0.9657\n"
          ]
        },
        {
          "output_type": "execute_result",
          "data": {
            "text/plain": [
              "[0.41492554545402527, 0.9656999707221985]"
            ]
          },
          "metadata": {},
          "execution_count": 32
        }
      ]
    },
    {
      "cell_type": "markdown",
      "source": [
        "如果你在tf裡, 你的答案都是帶one-hot encoding\n",
        "不是的畫 都帶原本"
      ],
      "metadata": {
        "id": "87CZd4J_gNAA"
      }
    },
    {
      "cell_type": "code",
      "source": [
        "from sklearn.metrics import confusion_matrix\n",
        "pre = model.predict(x_test_norm).argmax(axis=1)\n",
        "mat = confusion_matrix(y_test, pre)\n",
        "pd.DataFrame(mat,\n",
        "       index=[\"{}(true)\".format(i) for i in range(10)],\n",
        "       columns=[\"{}(pred)\".format(i) for i in range(10)])"
      ],
      "metadata": {
        "colab": {
          "base_uri": "https://localhost:8080/",
          "height": 380
        },
        "id": "P3fndj0iZOvj",
        "outputId": "75579ea5-9c2a-46e0-b353-4229de86cd3d"
      },
      "execution_count": 45,
      "outputs": [
        {
          "output_type": "stream",
          "name": "stdout",
          "text": [
            "313/313 [==============================] - 0s 1ms/step\n"
          ]
        },
        {
          "output_type": "execute_result",
          "data": {
            "text/plain": [
              "         0(pred)  1(pred)  2(pred)  3(pred)  4(pred)  5(pred)  6(pred)  \\\n",
              "0(true)      966        0        1        1        0        3        2   \n",
              "1(true)        0     1115        5        3        0        0        1   \n",
              "2(true)        3        1      992        9        6        0        0   \n",
              "3(true)        0        0        6      970        0       17        0   \n",
              "4(true)        1        0        2        1      948        0        7   \n",
              "5(true)        5        0        0        7        1      866        5   \n",
              "6(true)        7        2        4        1        8       19      911   \n",
              "7(true)        1        4        7        3        1        0        0   \n",
              "8(true)        5        0        6       18        2        7        1   \n",
              "9(true)        3        3        3        7       13        4        0   \n",
              "\n",
              "         7(pred)  8(pred)  9(pred)  \n",
              "0(true)        1        3        3  \n",
              "1(true)        1       10        0  \n",
              "2(true)        9       12        0  \n",
              "3(true)        4       10        3  \n",
              "4(true)        4        2       17  \n",
              "5(true)        1        7        0  \n",
              "6(true)        0        5        1  \n",
              "7(true)     1004        4        4  \n",
              "8(true)        2      929        4  \n",
              "9(true)       11        9      956  "
            ],
            "text/html": [
              "\n",
              "  <div id=\"df-e46627a9-bcd9-44ec-a61a-bb895ba3a25e\">\n",
              "    <div class=\"colab-df-container\">\n",
              "      <div>\n",
              "<style scoped>\n",
              "    .dataframe tbody tr th:only-of-type {\n",
              "        vertical-align: middle;\n",
              "    }\n",
              "\n",
              "    .dataframe tbody tr th {\n",
              "        vertical-align: top;\n",
              "    }\n",
              "\n",
              "    .dataframe thead th {\n",
              "        text-align: right;\n",
              "    }\n",
              "</style>\n",
              "<table border=\"1\" class=\"dataframe\">\n",
              "  <thead>\n",
              "    <tr style=\"text-align: right;\">\n",
              "      <th></th>\n",
              "      <th>0(pred)</th>\n",
              "      <th>1(pred)</th>\n",
              "      <th>2(pred)</th>\n",
              "      <th>3(pred)</th>\n",
              "      <th>4(pred)</th>\n",
              "      <th>5(pred)</th>\n",
              "      <th>6(pred)</th>\n",
              "      <th>7(pred)</th>\n",
              "      <th>8(pred)</th>\n",
              "      <th>9(pred)</th>\n",
              "    </tr>\n",
              "  </thead>\n",
              "  <tbody>\n",
              "    <tr>\n",
              "      <th>0(true)</th>\n",
              "      <td>966</td>\n",
              "      <td>0</td>\n",
              "      <td>1</td>\n",
              "      <td>1</td>\n",
              "      <td>0</td>\n",
              "      <td>3</td>\n",
              "      <td>2</td>\n",
              "      <td>1</td>\n",
              "      <td>3</td>\n",
              "      <td>3</td>\n",
              "    </tr>\n",
              "    <tr>\n",
              "      <th>1(true)</th>\n",
              "      <td>0</td>\n",
              "      <td>1115</td>\n",
              "      <td>5</td>\n",
              "      <td>3</td>\n",
              "      <td>0</td>\n",
              "      <td>0</td>\n",
              "      <td>1</td>\n",
              "      <td>1</td>\n",
              "      <td>10</td>\n",
              "      <td>0</td>\n",
              "    </tr>\n",
              "    <tr>\n",
              "      <th>2(true)</th>\n",
              "      <td>3</td>\n",
              "      <td>1</td>\n",
              "      <td>992</td>\n",
              "      <td>9</td>\n",
              "      <td>6</td>\n",
              "      <td>0</td>\n",
              "      <td>0</td>\n",
              "      <td>9</td>\n",
              "      <td>12</td>\n",
              "      <td>0</td>\n",
              "    </tr>\n",
              "    <tr>\n",
              "      <th>3(true)</th>\n",
              "      <td>0</td>\n",
              "      <td>0</td>\n",
              "      <td>6</td>\n",
              "      <td>970</td>\n",
              "      <td>0</td>\n",
              "      <td>17</td>\n",
              "      <td>0</td>\n",
              "      <td>4</td>\n",
              "      <td>10</td>\n",
              "      <td>3</td>\n",
              "    </tr>\n",
              "    <tr>\n",
              "      <th>4(true)</th>\n",
              "      <td>1</td>\n",
              "      <td>0</td>\n",
              "      <td>2</td>\n",
              "      <td>1</td>\n",
              "      <td>948</td>\n",
              "      <td>0</td>\n",
              "      <td>7</td>\n",
              "      <td>4</td>\n",
              "      <td>2</td>\n",
              "      <td>17</td>\n",
              "    </tr>\n",
              "    <tr>\n",
              "      <th>5(true)</th>\n",
              "      <td>5</td>\n",
              "      <td>0</td>\n",
              "      <td>0</td>\n",
              "      <td>7</td>\n",
              "      <td>1</td>\n",
              "      <td>866</td>\n",
              "      <td>5</td>\n",
              "      <td>1</td>\n",
              "      <td>7</td>\n",
              "      <td>0</td>\n",
              "    </tr>\n",
              "    <tr>\n",
              "      <th>6(true)</th>\n",
              "      <td>7</td>\n",
              "      <td>2</td>\n",
              "      <td>4</td>\n",
              "      <td>1</td>\n",
              "      <td>8</td>\n",
              "      <td>19</td>\n",
              "      <td>911</td>\n",
              "      <td>0</td>\n",
              "      <td>5</td>\n",
              "      <td>1</td>\n",
              "    </tr>\n",
              "    <tr>\n",
              "      <th>7(true)</th>\n",
              "      <td>1</td>\n",
              "      <td>4</td>\n",
              "      <td>7</td>\n",
              "      <td>3</td>\n",
              "      <td>1</td>\n",
              "      <td>0</td>\n",
              "      <td>0</td>\n",
              "      <td>1004</td>\n",
              "      <td>4</td>\n",
              "      <td>4</td>\n",
              "    </tr>\n",
              "    <tr>\n",
              "      <th>8(true)</th>\n",
              "      <td>5</td>\n",
              "      <td>0</td>\n",
              "      <td>6</td>\n",
              "      <td>18</td>\n",
              "      <td>2</td>\n",
              "      <td>7</td>\n",
              "      <td>1</td>\n",
              "      <td>2</td>\n",
              "      <td>929</td>\n",
              "      <td>4</td>\n",
              "    </tr>\n",
              "    <tr>\n",
              "      <th>9(true)</th>\n",
              "      <td>3</td>\n",
              "      <td>3</td>\n",
              "      <td>3</td>\n",
              "      <td>7</td>\n",
              "      <td>13</td>\n",
              "      <td>4</td>\n",
              "      <td>0</td>\n",
              "      <td>11</td>\n",
              "      <td>9</td>\n",
              "      <td>956</td>\n",
              "    </tr>\n",
              "  </tbody>\n",
              "</table>\n",
              "</div>\n",
              "      <button class=\"colab-df-convert\" onclick=\"convertToInteractive('df-e46627a9-bcd9-44ec-a61a-bb895ba3a25e')\"\n",
              "              title=\"Convert this dataframe to an interactive table.\"\n",
              "              style=\"display:none;\">\n",
              "        \n",
              "  <svg xmlns=\"http://www.w3.org/2000/svg\" height=\"24px\"viewBox=\"0 0 24 24\"\n",
              "       width=\"24px\">\n",
              "    <path d=\"M0 0h24v24H0V0z\" fill=\"none\"/>\n",
              "    <path d=\"M18.56 5.44l.94 2.06.94-2.06 2.06-.94-2.06-.94-.94-2.06-.94 2.06-2.06.94zm-11 1L8.5 8.5l.94-2.06 2.06-.94-2.06-.94L8.5 2.5l-.94 2.06-2.06.94zm10 10l.94 2.06.94-2.06 2.06-.94-2.06-.94-.94-2.06-.94 2.06-2.06.94z\"/><path d=\"M17.41 7.96l-1.37-1.37c-.4-.4-.92-.59-1.43-.59-.52 0-1.04.2-1.43.59L10.3 9.45l-7.72 7.72c-.78.78-.78 2.05 0 2.83L4 21.41c.39.39.9.59 1.41.59.51 0 1.02-.2 1.41-.59l7.78-7.78 2.81-2.81c.8-.78.8-2.07 0-2.86zM5.41 20L4 18.59l7.72-7.72 1.47 1.35L5.41 20z\"/>\n",
              "  </svg>\n",
              "      </button>\n",
              "      \n",
              "  <style>\n",
              "    .colab-df-container {\n",
              "      display:flex;\n",
              "      flex-wrap:wrap;\n",
              "      gap: 12px;\n",
              "    }\n",
              "\n",
              "    .colab-df-convert {\n",
              "      background-color: #E8F0FE;\n",
              "      border: none;\n",
              "      border-radius: 50%;\n",
              "      cursor: pointer;\n",
              "      display: none;\n",
              "      fill: #1967D2;\n",
              "      height: 32px;\n",
              "      padding: 0 0 0 0;\n",
              "      width: 32px;\n",
              "    }\n",
              "\n",
              "    .colab-df-convert:hover {\n",
              "      background-color: #E2EBFA;\n",
              "      box-shadow: 0px 1px 2px rgba(60, 64, 67, 0.3), 0px 1px 3px 1px rgba(60, 64, 67, 0.15);\n",
              "      fill: #174EA6;\n",
              "    }\n",
              "\n",
              "    [theme=dark] .colab-df-convert {\n",
              "      background-color: #3B4455;\n",
              "      fill: #D2E3FC;\n",
              "    }\n",
              "\n",
              "    [theme=dark] .colab-df-convert:hover {\n",
              "      background-color: #434B5C;\n",
              "      box-shadow: 0px 1px 3px 1px rgba(0, 0, 0, 0.15);\n",
              "      filter: drop-shadow(0px 1px 2px rgba(0, 0, 0, 0.3));\n",
              "      fill: #FFFFFF;\n",
              "    }\n",
              "  </style>\n",
              "\n",
              "      <script>\n",
              "        const buttonEl =\n",
              "          document.querySelector('#df-e46627a9-bcd9-44ec-a61a-bb895ba3a25e button.colab-df-convert');\n",
              "        buttonEl.style.display =\n",
              "          google.colab.kernel.accessAllowed ? 'block' : 'none';\n",
              "\n",
              "        async function convertToInteractive(key) {\n",
              "          const element = document.querySelector('#df-e46627a9-bcd9-44ec-a61a-bb895ba3a25e');\n",
              "          const dataTable =\n",
              "            await google.colab.kernel.invokeFunction('convertToInteractive',\n",
              "                                                     [key], {});\n",
              "          if (!dataTable) return;\n",
              "\n",
              "          const docLinkHtml = 'Like what you see? Visit the ' +\n",
              "            '<a target=\"_blank\" href=https://colab.research.google.com/notebooks/data_table.ipynb>data table notebook</a>'\n",
              "            + ' to learn more about interactive tables.';\n",
              "          element.innerHTML = '';\n",
              "          dataTable['output_type'] = 'display_data';\n",
              "          await google.colab.output.renderOutput(dataTable, element);\n",
              "          const docLink = document.createElement('div');\n",
              "          docLink.innerHTML = docLinkHtml;\n",
              "          element.appendChild(docLink);\n",
              "        }\n",
              "      </script>\n",
              "    </div>\n",
              "  </div>\n",
              "  "
            ]
          },
          "metadata": {},
          "execution_count": 45
        }
      ]
    },
    {
      "cell_type": "code",
      "source": [
        "# 如果你不帶參數, 他會展開成為一個list, 把最大位置列出來\n",
        "# 如果你帶入axis這個參數, axis=0, 直的看, 找最大值所在位置\n",
        "#             axis=1(-1), 橫的看\n",
        "np.array([\n",
        "    [1, 3],\n",
        "    [0.5, 2]\n",
        "]).argmax(axis=1)"
      ],
      "metadata": {
        "colab": {
          "base_uri": "https://localhost:8080/"
        },
        "id": "gt475ou2en3f",
        "outputId": "0a40dd57-2fad-44e8-f278-b01f2236a65a"
      },
      "execution_count": 40,
      "outputs": [
        {
          "output_type": "execute_result",
          "data": {
            "text/plain": [
              "array([0, 0])"
            ]
          },
          "metadata": {},
          "execution_count": 40
        }
      ]
    }
  ]
}