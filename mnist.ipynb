{
  "nbformat": 4,
  "nbformat_minor": 0,
  "metadata": {
    "colab": {
      "provenance": [],
      "authorship_tag": "ABX9TyOl0aWo1lFO3czKdy1qvNzd",
      "include_colab_link": true
    },
    "kernelspec": {
      "name": "python3",
      "display_name": "Python 3"
    },
    "language_info": {
      "name": "python"
    },
    "accelerator": "GPU",
    "gpuClass": "standard"
  },
  "cells": [
    {
      "cell_type": "markdown",
      "metadata": {
        "id": "view-in-github",
        "colab_type": "text"
      },
      "source": [
        "<a href=\"https://colab.research.google.com/github/Elwing-Chou/tibaml0315/blob/main/mnist.ipynb\" target=\"_parent\"><img src=\"https://colab.research.google.com/assets/colab-badge.svg\" alt=\"Open In Colab\"/></a>"
      ]
    },
    {
      "cell_type": "markdown",
      "source": [
        "from keras import XXX\n",
        "-> from tensorflow.keras import xx"
      ],
      "metadata": {
        "id": "-bGTRkwj99ZR"
      }
    },
    {
      "cell_type": "code",
      "execution_count": 13,
      "metadata": {
        "id": "HepgSGw88p-g"
      },
      "outputs": [],
      "source": [
        "from tensorflow.keras.datasets import mnist\n",
        "# ((x_train, y_train), (x_test, y_test))\n",
        "(x_train, y_train), (x_test, y_test) = mnist.load_data()"
      ]
    },
    {
      "cell_type": "code",
      "source": [
        "print(x_train.shape)\n",
        "print(x_test.shape)\n",
        "print(y_train.shape)\n",
        "print(y_test.shape)"
      ],
      "metadata": {
        "colab": {
          "base_uri": "https://localhost:8080/"
        },
        "id": "EVIXGEMG_RF0",
        "outputId": "e11559eb-712b-49b3-af76-47bba3051218"
      },
      "execution_count": 14,
      "outputs": [
        {
          "output_type": "stream",
          "name": "stdout",
          "text": [
            "(60000, 28, 28)\n",
            "(10000, 28, 28)\n",
            "(60000,)\n",
            "(10000,)\n"
          ]
        }
      ]
    },
    {
      "cell_type": "code",
      "source": [
        "# colormap: https://matplotlib.org/stable/tutorials/colors/colormaps.html\n",
        "# reverse: _r\n",
        "import pandas as pd\n",
        "import matplotlib.pyplot as plt\n",
        "\n",
        "# 灰階圖片(0: 黑色 255: 白色)\n",
        "pd.DataFrame(x_train[0])\n",
        "plt.imshow(x_train[0], cmap=\"gray\")"
      ],
      "metadata": {
        "colab": {
          "base_uri": "https://localhost:8080/",
          "height": 447
        },
        "id": "U_MODKRlAbmh",
        "outputId": "4e0f34cb-4992-4246-bdee-6c3d2d4ba580"
      },
      "execution_count": 15,
      "outputs": [
        {
          "output_type": "execute_result",
          "data": {
            "text/plain": [
              "<matplotlib.image.AxesImage at 0x7f6a1823cfd0>"
            ]
          },
          "metadata": {},
          "execution_count": 15
        },
        {
          "output_type": "display_data",
          "data": {
            "text/plain": [
              "<Figure size 640x480 with 1 Axes>"
            ],
            "image/png": "[encoded data removed]"
          },
          "metadata": {}
        }
      ]
    },
    {
      "cell_type": "markdown",
      "source": [
        "## 激活函式的選擇很重要\n",
        "\n",
        "1. 輸出層: 看狀況, 分類: a. 互斥(softmax) b. 不互斥(sigmoid)\n",
        "2. 中間層: relu family(m=1)"
      ],
      "metadata": {
        "id": "Qh3rgEA-un1B"
      }
    },
    {
      "cell_type": "code",
      "source": [
        "# models(地基): Sequential(一層疊一層) Model(自由疊層)\n",
        "# layers: Dense(全連接層)\n",
        "from tensorflow.keras.models import Sequential\n",
        "from tensorflow.keras.layers import Dense\n",
        "layers = [\n",
        "    # 784 * 128 + 128(bias)\n",
        "    Dense(128, activation=\"relu\", input_dim=784),\n",
        "    # 128 * 10 + 10(bias)\n",
        "    Dense(10, activation=\"softmax\")\n",
        "]\n",
        "model = Sequential(layers)\n",
        "model.summary()"
      ],
      "metadata": {
        "colab": {
          "base_uri": "https://localhost:8080/"
        },
        "id": "vaouYTI7N0Ha",
        "outputId": "a89c0836-4417-4a15-d11b-68650e67b78d"
      },
      "execution_count": 16,
      "outputs": [
        {
          "output_type": "stream",
          "name": "stdout",
          "text": [
            "Model: \"sequential_1\"\n",
            "_________________________________________________________________\n",
            " Layer (type)                Output Shape              Param #   \n",
            "=================================================================\n",
            " dense_2 (Dense)             (None, 128)               100480    \n",
            "                                                                 \n",
            " dense_3 (Dense)             (None, 10)                1290      \n",
            "                                                                 \n",
            "=================================================================\n",
            "Total params: 101,770\n",
            "Trainable params: 101,770\n",
            "Non-trainable params: 0\n",
            "_________________________________________________________________\n"
          ]
        }
      ]
    },
    {
      "cell_type": "markdown",
      "source": [
        "$ p_i = 正確答案 $\n",
        "\n",
        "$ q_i = 預測值 $\n",
        "\n",
        "$ categorical crossentropy(標準ce) = \\sum p_i log\\frac{1}{q_i}$\n",
        "\n",
        "如果你最後輸出只有一個的時候你要使用 BinaryCrossentropy\n",
        "\n",
        "因為你輸出的q -> q: 1這種東西 (1-q): 另外一種東西\n",
        "\n",
        "$ binary crossentropy = p log \\frac {1}{q} + (1-p) log \\frac {1}{1-q} $ "
      ],
      "metadata": {
        "id": "hBPX1k6UOmIx"
      }
    },
    {
      "cell_type": "code",
      "source": [
        "# crossentropy:\n",
        "from tensorflow.keras.losses import CategoricalCrossentropy\n",
        "model.compile(loss=CategoricalCrossentropy(), metrics=[\"accuracy\"])"
      ],
      "metadata": {
        "id": "FCBx5Ohh4OTX"
      },
      "execution_count": 17,
      "outputs": []
    },
    {
      "cell_type": "code",
      "source": [
        "# y\n",
        "from tensorflow.keras.utils import to_categorical\n",
        "y_train_cat = to_categorical(y_train, num_classes=10)\n",
        "y_test_cat = to_categorical(y_test, num_classes=10)\n",
        "print(y_train[0])\n",
        "print(y_train_cat[0])"
      ],
      "metadata": {
        "colab": {
          "base_uri": "https://localhost:8080/"
        },
        "id": "i_Ee8Ban5_51",
        "outputId": "5b86109d-dc4c-4062-c637-86ef918244fe"
      },
      "execution_count": 18,
      "outputs": [
        {
          "output_type": "stream",
          "name": "stdout",
          "text": [
            "5\n",
            "[0. 0. 0. 0. 0. 1. 0. 0. 0. 0.]\n"
          ]
        }
      ]
    },
    {
      "cell_type": "code",
      "source": [
        "import numpy as np\n",
        "# tensorflow建議: x(0~1) x(-1~1)\n",
        "# tensorflow隨機的weight有配合\n",
        "# reshape你可以把一個位置替換成-1(讓他自己算)\n",
        "# x_train.reshape(60000, 784)\n",
        "x_train_norm = x_train.reshape(-1, 784)\n",
        "x_test_norm = x_test.reshape(-1, 784)\n",
        "print(x_train_norm.shape)\n",
        "print(x_test_norm.shape)"
      ],
      "metadata": {
        "colab": {
          "base_uri": "https://localhost:8080/"
        },
        "id": "3F84ND7b7xBn",
        "outputId": "26abee67-9b69-48df-f035-a1272cc3e89f"
      },
      "execution_count": 19,
      "outputs": [
        {
          "output_type": "stream",
          "name": "stdout",
          "text": [
            "(60000, 784)\n",
            "(10000, 784)\n"
          ]
        }
      ]
    },
    {
      "cell_type": "code",
      "source": [
        "# epochs: 決定要把整份資料看過幾輪\n",
        "# 絕對不是越多越好, 越多越過擬和, 反而導致現實資料錯更多\n",
        "# validation_split: 擬要切出一部分不給模型看, 來驗證這組參數表現得如何\n",
        "# 一輪: 54000(90%) / 100 -> 540\n",
        "# 10 epochs: 540 * 10\n",
        "from tensorflow.keras.callbacks import EarlyStopping, ModelCheckpoint\n",
        "c = [\n",
        "    ModelCheckpoint(\"mnist.h5\", save_best_only=True),\n",
        "    EarlyStopping(patience=5, restore_best_weights=True)\n",
        "]\n",
        "model.fit(x_train_norm,\n",
        "     y_train_cat,\n",
        "     batch_size=100,\n",
        "     epochs=40,\n",
        "     validation_split=0.1,\n",
        "     callbacks=c)"
      ],
      "metadata": {
        "colab": {
          "base_uri": "https://localhost:8080/"
        },
        "id": "36Sxr2xf59Sg",
        "outputId": "fc18e634-20b2-4a9d-ed54-61602d44d6a5"
      },
      "execution_count": 20,
      "outputs": [
        {
          "output_type": "stream",
          "name": "stdout",
          "text": [
            "Epoch 1/40\n",
            "540/540 [==============================] - 2s 3ms/step - loss: 4.0645 - accuracy: 0.8632 - val_loss: 0.5790 - val_accuracy: 0.9065\n",
            "Epoch 2/40\n",
            "540/540 [==============================] - 2s 3ms/step - loss: 0.5329 - accuracy: 0.9199 - val_loss: 0.4225 - val_accuracy: 0.9330\n",
            "Epoch 3/40\n",
            "540/540 [==============================] - 2s 3ms/step - loss: 0.3629 - accuracy: 0.9399 - val_loss: 0.3090 - val_accuracy: 0.9502\n",
            "Epoch 4/40\n",
            "540/540 [==============================] - 2s 4ms/step - loss: 0.2808 - accuracy: 0.9511 - val_loss: 0.3327 - val_accuracy: 0.9565\n",
            "Epoch 5/40\n",
            "540/540 [==============================] - 2s 3ms/step - loss: 0.2448 - accuracy: 0.9589 - val_loss: 0.2859 - val_accuracy: 0.9558\n",
            "Epoch 6/40\n",
            "540/540 [==============================] - 2s 3ms/step - loss: 0.2163 - accuracy: 0.9637 - val_loss: 0.3325 - val_accuracy: 0.9568\n",
            "Epoch 7/40\n",
            "540/540 [==============================] - 2s 3ms/step - loss: 0.1951 - accuracy: 0.9678 - val_loss: 0.3871 - val_accuracy: 0.9563\n",
            "Epoch 8/40\n",
            "540/540 [==============================] - 2s 3ms/step - loss: 0.1784 - accuracy: 0.9704 - val_loss: 0.2875 - val_accuracy: 0.9612\n",
            "Epoch 9/40\n",
            "540/540 [==============================] - 2s 3ms/step - loss: 0.1641 - accuracy: 0.9733 - val_loss: 0.3307 - val_accuracy: 0.9657\n",
            "Epoch 10/40\n",
            "540/540 [==============================] - 2s 3ms/step - loss: 0.1530 - accuracy: 0.9750 - val_loss: 0.3225 - val_accuracy: 0.9617\n"
          ]
        },
        {
          "output_type": "execute_result",
          "data": {
            "text/plain": [
              "<keras.callbacks.History at 0x7f6990749a60>"
            ]
          },
          "metadata": {},
          "execution_count": 20
        }
      ]
    },
    {
      "cell_type": "code",
      "source": [
        "model.predict(x_test_norm)"
      ],
      "metadata": {
        "colab": {
          "base_uri": "https://localhost:8080/"
        },
        "id": "P3fndj0iZOvj",
        "outputId": "dc47b23a-f37e-4242-d3e8-687515315378"
      },
      "execution_count": 22,
      "outputs": [
        {
          "output_type": "stream",
          "name": "stdout",
          "text": [
            "313/313 [==============================] - 2s 5ms/step\n"
          ]
        },
        {
          "output_type": "execute_result",
          "data": {
            "text/plain": [
              "array([[0.0000000e+00, 0.0000000e+00, 0.0000000e+00, ..., 1.0000000e+00,\n",
              "        0.0000000e+00, 0.0000000e+00],\n",
              "       [0.0000000e+00, 5.1980001e-29, 1.0000000e+00, ..., 0.0000000e+00,\n",
              "        0.0000000e+00, 0.0000000e+00],\n",
              "       [1.5482769e-35, 1.0000000e+00, 2.8879418e-28, ..., 4.4124708e-25,\n",
              "        2.4892222e-26, 2.7878263e-35],\n",
              "       ...,\n",
              "       [0.0000000e+00, 3.0350382e-18, 0.0000000e+00, ..., 3.5139178e-10,\n",
              "        3.4022375e-31, 4.2136489e-05],\n",
              "       [1.6176609e-35, 0.0000000e+00, 0.0000000e+00, ..., 1.0032358e-31,\n",
              "        1.1787725e-13, 0.0000000e+00],\n",
              "       [5.3327013e-24, 0.0000000e+00, 1.3656083e-22, ..., 0.0000000e+00,\n",
              "        1.6344420e-32, 0.0000000e+00]], dtype=float32)"
            ]
          },
          "metadata": {},
          "execution_count": 22
        }
      ]
    }
  ]
}