{
  "nbformat": 4,
  "nbformat_minor": 0,
  "metadata": {
    "colab": {
      "provenance": [],
      "authorship_tag": "ABX9TyMCQZLRWC8iw+f2AWzt0FR5",
      "include_colab_link": true
    },
    "kernelspec": {
      "name": "python3",
      "display_name": "Python 3"
    },
    "language_info": {
      "name": "python"
    },
    "accelerator": "GPU",
    "gpuClass": "standard"
  },
  "cells": [
    {
      "cell_type": "markdown",
      "metadata": {
        "id": "view-in-github",
        "colab_type": "text"
      },
      "source": [
        "<a href=\"https://colab.research.google.com/github/Elwing-Chou/tibaml0315/blob/main/cnn.ipynb\" target=\"_parent\"><img src=\"https://colab.research.google.com/assets/colab-badge.svg\" alt=\"Open In Colab\"/></a>"
      ]
    },
    {
      "cell_type": "code",
      "execution_count": 1,
      "metadata": {
        "colab": {
          "base_uri": "https://localhost:8080/"
        },
        "id": "4nmq4Kw9vCmv",
        "outputId": "2636b9c4-0030-46e6-ed18-35f49498730a"
      },
      "outputs": [
        {
          "output_type": "stream",
          "name": "stdout",
          "text": [
            "Downloading data from https://www.cs.toronto.edu/~kriz/cifar-10-python.tar.gz\n",
            "170498071/170498071 [==============================] - 15s 0us/step\n"
          ]
        }
      ],
      "source": [
        "from tensorflow.keras.datasets import cifar10\n",
        "# ((x_train, y_train), (x_test, y_test))\n",
        "(x_train, y_train), (x_test, y_test) = cifar10.load_data()"
      ]
    },
    {
      "cell_type": "code",
      "source": [
        "print(x_train.shape)\n",
        "print(x_test.shape)\n",
        "print(y_train.shape)\n",
        "print(y_test.shape)"
      ],
      "metadata": {
        "colab": {
          "base_uri": "https://localhost:8080/"
        },
        "id": "d3H4MC3dvMxS",
        "outputId": "83906270-e0e3-4b56-ffd7-1c0ddd622124"
      },
      "execution_count": 2,
      "outputs": [
        {
          "output_type": "stream",
          "name": "stdout",
          "text": [
            "(50000, 32, 32, 3)\n",
            "(10000, 32, 32, 3)\n",
            "(50000, 1)\n",
            "(10000, 1)\n"
          ]
        }
      ]
    },
    {
      "cell_type": "code",
      "source": [
        "y_train = y_train.reshape(-1)\n",
        "y_test = y_test.reshape(-1)"
      ],
      "metadata": {
        "id": "LTBXZaAvvsWt"
      },
      "execution_count": 3,
      "outputs": []
    },
    {
      "cell_type": "code",
      "source": [
        "trans = [\n",
        "    \"airplane\",\t\t\t\t\t\t\t\t\t\t\n",
        "    \"automobile\",\t\t\t\t\t\t\t\t\t\t\n",
        "    \"bird\",\t\t\t\t\t\t\t\t\t\t\n",
        "    \"cat\",\t\t\t\t\t\t\t\t\t\t\n",
        "    \"deer\",\t\t\t\t\t\t\t\t\t\t\n",
        "    \"dog\",\t\t\t\t\t\t\t\t\t\t\n",
        "    \"frog\",\t\t\t\t\t\t\t\t\t\t\n",
        "    \"horse\",\t\t\t\t\t\t\t\t\t\t\n",
        "    \"ship\",\t\t\t\t\t\t\t\t\t\t\n",
        "    \"truck\",\n",
        "]"
      ],
      "metadata": {
        "id": "-Gqsins4wiZ_"
      },
      "execution_count": 4,
      "outputs": []
    },
    {
      "cell_type": "code",
      "source": [
        "import pandas as pd\n",
        "import matplotlib.pyplot as plt\n",
        "\n",
        "# 灰階圖片(0: 黑色 255: 白色)\n",
        "idx = 2500\n",
        "print(trans[y_train[idx]])\n",
        "plt.imshow(x_train[idx])"
      ],
      "metadata": {
        "colab": {
          "base_uri": "https://localhost:8080/",
          "height": 465
        },
        "id": "-Px23oMvwTvk",
        "outputId": "cc7ddc94-e881-449f-ca6c-471642dac66d"
      },
      "execution_count": 5,
      "outputs": [
        {
          "output_type": "stream",
          "name": "stdout",
          "text": [
            "dog\n"
          ]
        },
        {
          "output_type": "execute_result",
          "data": {
            "text/plain": [
              "<matplotlib.image.AxesImage at 0x7f88db6904f0>"
            ]
          },
          "metadata": {},
          "execution_count": 5
        },
        {
          "output_type": "display_data",
          "data": {
            "text/plain": [
              "<Figure size 640x480 with 1 Axes>"
            ],
            "image/png": "[encoded data removed]"
          },
          "metadata": {}
        }
      ]
    },
    {
      "cell_type": "code",
      "source": [
        "from tensorflow.keras.models import Sequential\n",
        "from tensorflow.keras.layers import Conv2D, MaxPooling2D\n",
        "from tensorflow.keras.layers import GlobalAveragePooling2D, Dense\n",
        "\n",
        "layers = [\n",
        "    # 1個filter(3 * 3 * 3) * 64(種) + 64(bias) -> 1792\n",
        "    Conv2D(64, 3, padding=\"same\", activation=\"relu\", input_shape=(32, 32, 3)),\n",
        "    MaxPooling2D(),\n",
        "    # 1個filter(3 * 3 * 64) * 128(種) + 128(bias) -> 73856\n",
        "    Conv2D(128, 3, padding=\"same\", activation=\"relu\"),\n",
        "    MaxPooling2D(),\n",
        "    Conv2D(256, 3, padding=\"same\", activation=\"relu\"),\n",
        "    MaxPooling2D(),\n",
        "    Conv2D(512, 3, padding=\"same\", activation=\"relu\"),\n",
        "    MaxPooling2D(),\n",
        "    GlobalAveragePooling2D(),\n",
        "    # 256 * 10 + 10(bias)\n",
        "    Dense(10, activation=\"softmax\")\n",
        "]\n",
        "model = Sequential(layers)\n",
        "model.summary()"
      ],
      "metadata": {
        "colab": {
          "base_uri": "https://localhost:8080/"
        },
        "id": "iHJi3uw-0Pw4",
        "outputId": "0787b353-873c-428b-f4da-e9ef56c72fcc"
      },
      "execution_count": 13,
      "outputs": [
        {
          "output_type": "stream",
          "name": "stdout",
          "text": [
            "Model: \"sequential_1\"\n",
            "_________________________________________________________________\n",
            " Layer (type)                Output Shape              Param #   \n",
            "=================================================================\n",
            " conv2d_3 (Conv2D)           (None, 32, 32, 64)        1792      \n",
            "                                                                 \n",
            " max_pooling2d_3 (MaxPooling  (None, 16, 16, 64)       0         \n",
            " 2D)                                                             \n",
            "                                                                 \n",
            " conv2d_4 (Conv2D)           (None, 16, 16, 128)       73856     \n",
            "                                                                 \n",
            " max_pooling2d_4 (MaxPooling  (None, 8, 8, 128)        0         \n",
            " 2D)                                                             \n",
            "                                                                 \n",
            " conv2d_5 (Conv2D)           (None, 8, 8, 256)         295168    \n",
            "                                                                 \n",
            " max_pooling2d_5 (MaxPooling  (None, 4, 4, 256)        0         \n",
            " 2D)                                                             \n",
            "                                                                 \n",
            " conv2d_6 (Conv2D)           (None, 4, 4, 512)         1180160   \n",
            "                                                                 \n",
            " max_pooling2d_6 (MaxPooling  (None, 2, 2, 512)        0         \n",
            " 2D)                                                             \n",
            "                                                                 \n",
            " global_average_pooling2d_1   (None, 512)              0         \n",
            " (GlobalAveragePooling2D)                                        \n",
            "                                                                 \n",
            " dense_1 (Dense)             (None, 10)                5130      \n",
            "                                                                 \n",
            "=================================================================\n",
            "Total params: 1,556,106\n",
            "Trainable params: 1,556,106\n",
            "Non-trainable params: 0\n",
            "_________________________________________________________________\n"
          ]
        }
      ]
    },
    {
      "cell_type": "code",
      "source": [
        "# x: 0~1\n",
        "# y: 配合loss這邊做Sparse\n",
        "x_train_norm = x_train / 255.0\n",
        "x_test_norm = x_test / 255.0"
      ],
      "metadata": {
        "id": "2cc1uARTiOWa"
      },
      "execution_count": 14,
      "outputs": []
    },
    {
      "cell_type": "code",
      "source": [
        "from tensorflow.keras.losses import SparseCategoricalCrossentropy\n",
        "model.compile(loss=SparseCategoricalCrossentropy(),\n",
        "       metrics=[\"accuracy\"],\n",
        "       optimizer=\"adam\")"
      ],
      "metadata": {
        "id": "_X0UjaMzlxpI"
      },
      "execution_count": 15,
      "outputs": []
    },
    {
      "cell_type": "code",
      "source": [
        "from tensorflow.keras.callbacks import EarlyStopping, ModelCheckpoint\n",
        "c = [\n",
        "    ModelCheckpoint(\"cnn.h5\", save_best_only=True),\n",
        "    EarlyStopping(patience=5, restore_best_weights=True)\n",
        "]\n",
        "model.fit(x_train_norm,\n",
        "     y_train,\n",
        "     batch_size=100,\n",
        "     epochs=40,\n",
        "     validation_split=0.1,\n",
        "     callbacks=c)"
      ],
      "metadata": {
        "colab": {
          "base_uri": "https://localhost:8080/"
        },
        "id": "u2bxJPa-wMfB",
        "outputId": "ceea1332-a122-4591-ec47-83a01d86356d"
      },
      "execution_count": 16,
      "outputs": [
        {
          "output_type": "stream",
          "name": "stdout",
          "text": [
            "Epoch 1/40\n",
            "450/450 [==============================] - 8s 13ms/step - loss: 1.6138 - accuracy: 0.4015 - val_loss: 1.2702 - val_accuracy: 0.5396\n",
            "Epoch 2/40\n",
            "450/450 [==============================] - 5s 11ms/step - loss: 1.1344 - accuracy: 0.5950 - val_loss: 0.9962 - val_accuracy: 0.6502\n",
            "Epoch 3/40\n",
            "450/450 [==============================] - 5s 11ms/step - loss: 0.9197 - accuracy: 0.6754 - val_loss: 0.8840 - val_accuracy: 0.6882\n",
            "Epoch 4/40\n",
            "450/450 [==============================] - 5s 12ms/step - loss: 0.7786 - accuracy: 0.7255 - val_loss: 0.7392 - val_accuracy: 0.7432\n",
            "Epoch 5/40\n",
            "450/450 [==============================] - 5s 11ms/step - loss: 0.6642 - accuracy: 0.7701 - val_loss: 0.7301 - val_accuracy: 0.7486\n",
            "Epoch 6/40\n",
            "450/450 [==============================] - 5s 11ms/step - loss: 0.5734 - accuracy: 0.8007 - val_loss: 0.6806 - val_accuracy: 0.7628\n",
            "Epoch 7/40\n",
            "450/450 [==============================] - 5s 12ms/step - loss: 0.4950 - accuracy: 0.8282 - val_loss: 0.6525 - val_accuracy: 0.7750\n",
            "Epoch 8/40\n",
            "450/450 [==============================] - 5s 11ms/step - loss: 0.4243 - accuracy: 0.8527 - val_loss: 0.6773 - val_accuracy: 0.7754\n",
            "Epoch 9/40\n",
            "450/450 [==============================] - 5s 11ms/step - loss: 0.3464 - accuracy: 0.8809 - val_loss: 0.6966 - val_accuracy: 0.7812\n",
            "Epoch 10/40\n",
            "450/450 [==============================] - 5s 11ms/step - loss: 0.2840 - accuracy: 0.9021 - val_loss: 0.6832 - val_accuracy: 0.7886\n",
            "Epoch 11/40\n",
            "450/450 [==============================] - 5s 11ms/step - loss: 0.2213 - accuracy: 0.9239 - val_loss: 0.7614 - val_accuracy: 0.7774\n",
            "Epoch 12/40\n",
            "450/450 [==============================] - 5s 11ms/step - loss: 0.1655 - accuracy: 0.9442 - val_loss: 0.7984 - val_accuracy: 0.7826\n"
          ]
        },
        {
          "output_type": "execute_result",
          "data": {
            "text/plain": [
              "<keras.callbacks.History at 0x7f88317a50d0>"
            ]
          },
          "metadata": {},
          "execution_count": 16
        }
      ]
    },
    {
      "cell_type": "code",
      "source": [
        "model.evaluate(x_test_norm, y_test)"
      ],
      "metadata": {
        "colab": {
          "base_uri": "https://localhost:8080/"
        },
        "id": "-_WK42OMwyeA",
        "outputId": "62ea63f7-fd81-44ff-827e-e4d9e6431a86"
      },
      "execution_count": 17,
      "outputs": [
        {
          "output_type": "stream",
          "name": "stdout",
          "text": [
            "313/313 [==============================] - 1s 4ms/step - loss: 0.6984 - accuracy: 0.7634\n"
          ]
        },
        {
          "output_type": "execute_result",
          "data": {
            "text/plain": [
              "[0.6984240412712097, 0.7634000182151794]"
            ]
          },
          "metadata": {},
          "execution_count": 17
        }
      ]
    },
    {
      "cell_type": "code",
      "source": [
        "from sklearn.metrics import confusion_matrix\n",
        "pre = model.predict(x_test_norm).argmax(axis=1)\n",
        "mat = confusion_matrix(y_test, pre)\n",
        "pd.DataFrame(mat,\n",
        "       index=[\"{}(true)\".format(trans[i]) for i in range(10)],\n",
        "       columns=[\"{}(pred)\".format(trans[i]) for i in range(10)])"
      ],
      "metadata": {
        "colab": {
          "base_uri": "https://localhost:8080/",
          "height": 380
        },
        "id": "Ix49wcgaxjtB",
        "outputId": "2e3d350a-efb3-45a0-a659-77725cd54bf4"
      },
      "execution_count": 18,
      "outputs": [
        {
          "output_type": "stream",
          "name": "stdout",
          "text": [
            "313/313 [==============================] - 1s 3ms/step\n"
          ]
        },
        {
          "output_type": "execute_result",
          "data": {
            "text/plain": [
              "                  airplane(pred)  automobile(pred)  bird(pred)  cat(pred)  \\\n",
              "airplane(true)               783                12          72         18   \n",
              "automobile(true)              16               875           5         18   \n",
              "bird(true)                    40                 2         694         77   \n",
              "cat(true)                     19                 2          59        629   \n",
              "deer(true)                    15                 2          75         84   \n",
              "dog(true)                     14                 0          29        142   \n",
              "frog(true)                     5                 2          61         98   \n",
              "horse(true)                    9                 1          36         43   \n",
              "ship(true)                    43                18          21         16   \n",
              "truck(true)                   31                89          13         24   \n",
              "\n",
              "                  deer(pred)  dog(pred)  frog(pred)  horse(pred)  ship(pred)  \\\n",
              "airplane(true)             7          7           5           12          62   \n",
              "automobile(true)           3         10           7            3          25   \n",
              "bird(true)                54         51          39           29           8   \n",
              "cat(true)                 39        161          37           36           5   \n",
              "deer(true)               679         37          25           75           8   \n",
              "dog(true)                 31        718           8           52           3   \n",
              "frog(true)                28         25         764            7           9   \n",
              "horse(true)               32         45           3          823           4   \n",
              "ship(true)                 2         10           1            1         882   \n",
              "truck(true)                1          9           7           17          22   \n",
              "\n",
              "                  truck(pred)  \n",
              "airplane(true)             22  \n",
              "automobile(true)           38  \n",
              "bird(true)                  6  \n",
              "cat(true)                  13  \n",
              "deer(true)                  0  \n",
              "dog(true)                   3  \n",
              "frog(true)                  1  \n",
              "horse(true)                 4  \n",
              "ship(true)                  6  \n",
              "truck(true)               787  "
            ],
            "text/html": [
              "\n",
              "  <div id=\"df-faa1192a-fe95-4411-9847-6445ede5cb05\">\n",
              "    <div class=\"colab-df-container\">\n",
              "      <div>\n",
              "<style scoped>\n",
              "    .dataframe tbody tr th:only-of-type {\n",
              "        vertical-align: middle;\n",
              "    }\n",
              "\n",
              "    .dataframe tbody tr th {\n",
              "        vertical-align: top;\n",
              "    }\n",
              "\n",
              "    .dataframe thead th {\n",
              "        text-align: right;\n",
              "    }\n",
              "</style>\n",
              "<table border=\"1\" class=\"dataframe\">\n",
              "  <thead>\n",
              "    <tr style=\"text-align: right;\">\n",
              "      <th></th>\n",
              "      <th>airplane(pred)</th>\n",
              "      <th>automobile(pred)</th>\n",
              "      <th>bird(pred)</th>\n",
              "      <th>cat(pred)</th>\n",
              "      <th>deer(pred)</th>\n",
              "      <th>dog(pred)</th>\n",
              "      <th>frog(pred)</th>\n",
              "      <th>horse(pred)</th>\n",
              "      <th>ship(pred)</th>\n",
              "      <th>truck(pred)</th>\n",
              "    </tr>\n",
              "  </thead>\n",
              "  <tbody>\n",
              "    <tr>\n",
              "      <th>airplane(true)</th>\n",
              "      <td>783</td>\n",
              "      <td>12</td>\n",
              "      <td>72</td>\n",
              "      <td>18</td>\n",
              "      <td>7</td>\n",
              "      <td>7</td>\n",
              "      <td>5</td>\n",
              "      <td>12</td>\n",
              "      <td>62</td>\n",
              "      <td>22</td>\n",
              "    </tr>\n",
              "    <tr>\n",
              "      <th>automobile(true)</th>\n",
              "      <td>16</td>\n",
              "      <td>875</td>\n",
              "      <td>5</td>\n",
              "      <td>18</td>\n",
              "      <td>3</td>\n",
              "      <td>10</td>\n",
              "      <td>7</td>\n",
              "      <td>3</td>\n",
              "      <td>25</td>\n",
              "      <td>38</td>\n",
              "    </tr>\n",
              "    <tr>\n",
              "      <th>bird(true)</th>\n",
              "      <td>40</td>\n",
              "      <td>2</td>\n",
              "      <td>694</td>\n",
              "      <td>77</td>\n",
              "      <td>54</td>\n",
              "      <td>51</td>\n",
              "      <td>39</td>\n",
              "      <td>29</td>\n",
              "      <td>8</td>\n",
              "      <td>6</td>\n",
              "    </tr>\n",
              "    <tr>\n",
              "      <th>cat(true)</th>\n",
              "      <td>19</td>\n",
              "      <td>2</td>\n",
              "      <td>59</td>\n",
              "      <td>629</td>\n",
              "      <td>39</td>\n",
              "      <td>161</td>\n",
              "      <td>37</td>\n",
              "      <td>36</td>\n",
              "      <td>5</td>\n",
              "      <td>13</td>\n",
              "    </tr>\n",
              "    <tr>\n",
              "      <th>deer(true)</th>\n",
              "      <td>15</td>\n",
              "      <td>2</td>\n",
              "      <td>75</td>\n",
              "      <td>84</td>\n",
              "      <td>679</td>\n",
              "      <td>37</td>\n",
              "      <td>25</td>\n",
              "      <td>75</td>\n",
              "      <td>8</td>\n",
              "      <td>0</td>\n",
              "    </tr>\n",
              "    <tr>\n",
              "      <th>dog(true)</th>\n",
              "      <td>14</td>\n",
              "      <td>0</td>\n",
              "      <td>29</td>\n",
              "      <td>142</td>\n",
              "      <td>31</td>\n",
              "      <td>718</td>\n",
              "      <td>8</td>\n",
              "      <td>52</td>\n",
              "      <td>3</td>\n",
              "      <td>3</td>\n",
              "    </tr>\n",
              "    <tr>\n",
              "      <th>frog(true)</th>\n",
              "      <td>5</td>\n",
              "      <td>2</td>\n",
              "      <td>61</td>\n",
              "      <td>98</td>\n",
              "      <td>28</td>\n",
              "      <td>25</td>\n",
              "      <td>764</td>\n",
              "      <td>7</td>\n",
              "      <td>9</td>\n",
              "      <td>1</td>\n",
              "    </tr>\n",
              "    <tr>\n",
              "      <th>horse(true)</th>\n",
              "      <td>9</td>\n",
              "      <td>1</td>\n",
              "      <td>36</td>\n",
              "      <td>43</td>\n",
              "      <td>32</td>\n",
              "      <td>45</td>\n",
              "      <td>3</td>\n",
              "      <td>823</td>\n",
              "      <td>4</td>\n",
              "      <td>4</td>\n",
              "    </tr>\n",
              "    <tr>\n",
              "      <th>ship(true)</th>\n",
              "      <td>43</td>\n",
              "      <td>18</td>\n",
              "      <td>21</td>\n",
              "      <td>16</td>\n",
              "      <td>2</td>\n",
              "      <td>10</td>\n",
              "      <td>1</td>\n",
              "      <td>1</td>\n",
              "      <td>882</td>\n",
              "      <td>6</td>\n",
              "    </tr>\n",
              "    <tr>\n",
              "      <th>truck(true)</th>\n",
              "      <td>31</td>\n",
              "      <td>89</td>\n",
              "      <td>13</td>\n",
              "      <td>24</td>\n",
              "      <td>1</td>\n",
              "      <td>9</td>\n",
              "      <td>7</td>\n",
              "      <td>17</td>\n",
              "      <td>22</td>\n",
              "      <td>787</td>\n",
              "    </tr>\n",
              "  </tbody>\n",
              "</table>\n",
              "</div>\n",
              "      <button class=\"colab-df-convert\" onclick=\"convertToInteractive('df-faa1192a-fe95-4411-9847-6445ede5cb05')\"\n",
              "              title=\"Convert this dataframe to an interactive table.\"\n",
              "              style=\"display:none;\">\n",
              "        \n",
              "  <svg xmlns=\"http://www.w3.org/2000/svg\" height=\"24px\"viewBox=\"0 0 24 24\"\n",
              "       width=\"24px\">\n",
              "    <path d=\"M0 0h24v24H0V0z\" fill=\"none\"/>\n",
              "    <path d=\"M18.56 5.44l.94 2.06.94-2.06 2.06-.94-2.06-.94-.94-2.06-.94 2.06-2.06.94zm-11 1L8.5 8.5l.94-2.06 2.06-.94-2.06-.94L8.5 2.5l-.94 2.06-2.06.94zm10 10l.94 2.06.94-2.06 2.06-.94-2.06-.94-.94-2.06-.94 2.06-2.06.94z\"/><path d=\"M17.41 7.96l-1.37-1.37c-.4-.4-.92-.59-1.43-.59-.52 0-1.04.2-1.43.59L10.3 9.45l-7.72 7.72c-.78.78-.78 2.05 0 2.83L4 21.41c.39.39.9.59 1.41.59.51 0 1.02-.2 1.41-.59l7.78-7.78 2.81-2.81c.8-.78.8-2.07 0-2.86zM5.41 20L4 18.59l7.72-7.72 1.47 1.35L5.41 20z\"/>\n",
              "  </svg>\n",
              "      </button>\n",
              "      \n",
              "  <style>\n",
              "    .colab-df-container {\n",
              "      display:flex;\n",
              "      flex-wrap:wrap;\n",
              "      gap: 12px;\n",
              "    }\n",
              "\n",
              "    .colab-df-convert {\n",
              "      background-color: #E8F0FE;\n",
              "      border: none;\n",
              "      border-radius: 50%;\n",
              "      cursor: pointer;\n",
              "      display: none;\n",
              "      fill: #1967D2;\n",
              "      height: 32px;\n",
              "      padding: 0 0 0 0;\n",
              "      width: 32px;\n",
              "    }\n",
              "\n",
              "    .colab-df-convert:hover {\n",
              "      background-color: #E2EBFA;\n",
              "      box-shadow: 0px 1px 2px rgba(60, 64, 67, 0.3), 0px 1px 3px 1px rgba(60, 64, 67, 0.15);\n",
              "      fill: #174EA6;\n",
              "    }\n",
              "\n",
              "    [theme=dark] .colab-df-convert {\n",
              "      background-color: #3B4455;\n",
              "      fill: #D2E3FC;\n",
              "    }\n",
              "\n",
              "    [theme=dark] .colab-df-convert:hover {\n",
              "      background-color: #434B5C;\n",
              "      box-shadow: 0px 1px 3px 1px rgba(0, 0, 0, 0.15);\n",
              "      filter: drop-shadow(0px 1px 2px rgba(0, 0, 0, 0.3));\n",
              "      fill: #FFFFFF;\n",
              "    }\n",
              "  </style>\n",
              "\n",
              "      <script>\n",
              "        const buttonEl =\n",
              "          document.querySelector('#df-faa1192a-fe95-4411-9847-6445ede5cb05 button.colab-df-convert');\n",
              "        buttonEl.style.display =\n",
              "          google.colab.kernel.accessAllowed ? 'block' : 'none';\n",
              "\n",
              "        async function convertToInteractive(key) {\n",
              "          const element = document.querySelector('#df-faa1192a-fe95-4411-9847-6445ede5cb05');\n",
              "          const dataTable =\n",
              "            await google.colab.kernel.invokeFunction('convertToInteractive',\n",
              "                                                     [key], {});\n",
              "          if (!dataTable) return;\n",
              "\n",
              "          const docLinkHtml = 'Like what you see? Visit the ' +\n",
              "            '<a target=\"_blank\" href=https://colab.research.google.com/notebooks/data_table.ipynb>data table notebook</a>'\n",
              "            + ' to learn more about interactive tables.';\n",
              "          element.innerHTML = '';\n",
              "          dataTable['output_type'] = 'display_data';\n",
              "          await google.colab.output.renderOutput(dataTable, element);\n",
              "          const docLink = document.createElement('div');\n",
              "          docLink.innerHTML = docLinkHtml;\n",
              "          element.appendChild(docLink);\n",
              "        }\n",
              "      </script>\n",
              "    </div>\n",
              "  </div>\n",
              "  "
            ]
          },
          "metadata": {},
          "execution_count": 18
        }
      ]
    },
    {
      "cell_type": "code",
      "source": [
        "import numpy as np\n",
        "idx = np.nonzero(y_test != pre)[0]\n",
        "idx = idx[:100]\n",
        "plt.figure(figsize=(15, 30))\n",
        "# 預測錯誤的預測值\n",
        "fp_pred = pre[idx]\n",
        "# 預測錯誤的真實值\n",
        "fp_true = y_test[idx]\n",
        "# 預測錯誤的圖片\n",
        "fp_img = x_test[idx]\n",
        "for i in range(len(idx)):\n",
        "    plt.subplot(10, 10, i+1)\n",
        "    plt.axis(\"off\")\n",
        "    t = \"[T]:{}\\n[P]:{}\".format(trans[fp_true[i]], trans[fp_pred[i]])\n",
        "    plt.title(t)\n",
        "    plt.imshow(fp_img[i])"
      ],
      "metadata": {
        "id": "KAZyDN0xzIg8"
      },
      "execution_count": null,
      "outputs": []
    },
    {
      "cell_type": "code",
      "source": [
        "import requests\n",
        "from PIL import Image\n",
        "url = \"https://pic3.zhimg.com/v2-9d0b8e3899df1a4f70f4b3f069dbb1fe_b.jpg\" #@param {type:\"string\"}\n",
        "response = requests.get(url, stream=True)\n",
        "\n",
        "img = Image.open(response.raw).resize((32, 32)).convert(\"RGB\")\n",
        "img_np = np.array(img)\n",
        "testx = img_np.reshape(1, 32, 32, 3) / 255.0\n",
        "probas = model.predict(testx)[0]\n",
        "for i in range(10):\n",
        "    print(trans[i], \"的機率是:\", round(probas[i], 4))\n",
        "ans = probas.argmax(axis=-1)\n",
        "print(\"最高機率是:\", trans[ans])\n",
        "plt.imshow(img_np)\n",
        "     "
      ],
      "metadata": {
        "colab": {
          "base_uri": "https://localhost:8080/",
          "height": 656
        },
        "id": "toIYy0YC0bq5",
        "outputId": "fb6c1725-be66-4d20-9842-53b9578ab3c7"
      },
      "execution_count": 28,
      "outputs": [
        {
          "output_type": "stream",
          "name": "stdout",
          "text": [
            "1/1 [==============================] - 0s 32ms/step\n",
            "airplane 的機率是: 0.0152\n",
            "automobile 的機率是: 0.0\n",
            "bird 的機率是: 0.01\n",
            "cat 的機率是: 0.8118\n",
            "deer 的機率是: 0.0031\n",
            "dog 的機率是: 0.153\n",
            "frog 的機率是: 1e-04\n",
            "horse 的機率是: 0.0061\n",
            "ship 的機率是: 0.0003\n",
            "truck 的機率是: 0.0003\n",
            "最高機率是: cat\n"
          ]
        },
        {
          "output_type": "execute_result",
          "data": {
            "text/plain": [
              "<matplotlib.image.AxesImage at 0x7f8810a2dd00>"
            ]
          },
          "metadata": {},
          "execution_count": 28
        },
        {
          "output_type": "display_data",
          "data": {
            "text/plain": [
              "<Figure size 640x480 with 1 Axes>"
            ],
            "image/png": "[encoded data removed]"
          },
          "metadata": {}
        }
      ]
    }
  ]
}